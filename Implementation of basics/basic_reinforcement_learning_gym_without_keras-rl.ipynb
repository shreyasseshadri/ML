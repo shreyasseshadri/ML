{
 "cells": [
  {
   "cell_type": "code",
   "execution_count": 1,
   "metadata": {},
   "outputs": [
    {
     "name": "stderr",
     "output_type": "stream",
     "text": [
      "Using TensorFlow backend.\n"
     ]
    }
   ],
   "source": [
    "import gym\n",
    "import numpy as np\n",
    "from keras.models import Sequential\n",
    "from keras.layers import Dense, Dropout"
   ]
  },
  {
   "cell_type": "code",
   "execution_count": 2,
   "metadata": {
    "collapsed": true
   },
   "outputs": [],
   "source": [
    "def gather_data(env):\n",
    "\tnum_trials = 10000\n",
    "\tmin_score = 50\n",
    "\tsim_steps = 500\n",
    "\ttrainingX, trainingY = [], []\n",
    "\n",
    "\tscores = []\n",
    "\tfor _ in range(num_trials):\n",
    "\t\tobservation = env.reset()\n",
    "\t\tscore = 0\n",
    "\t\ttraining_sampleX, training_sampleY = [], []\n",
    "\t\tfor step in range(sim_steps):\n",
    "\t\t\t# action corresponds to the previous observation so record before step\n",
    "\t\t\taction = np.random.randint(0, 2)\n",
    "\t\t\tone_hot_action = np.zeros(2)\n",
    "\t\t\tone_hot_action[action] = 1\n",
    "\t\t\ttraining_sampleX.append(observation)\n",
    "\t\t\ttraining_sampleY.append(one_hot_action)\n",
    "\t\t\t\n",
    "\t\t\tobservation, reward, done, _ = env.step(action)\n",
    "\t\t\tscore += reward\n",
    "\t\t\tif done:\n",
    "\t\t\t\tbreak\n",
    "\t\tif score > min_score:\n",
    "\t\t\tscores.append(score)\n",
    "\t\t\ttrainingX += training_sampleX\n",
    "\t\t\ttrainingY += training_sampleY\n",
    "\n",
    "\ttrainingX, trainingY = np.array(trainingX), np.array(trainingY)\n",
    "\tprint(\"Average: {}\".format(np.mean(scores)))\n",
    "\tprint(\"Median: {}\".format(np.median(scores)))\n",
    "\treturn trainingX, trainingY"
   ]
  },
  {
   "cell_type": "code",
   "execution_count": 3,
   "metadata": {
    "collapsed": true
   },
   "outputs": [],
   "source": [
    "def create_model():\n",
    "    model = Sequential()\n",
    "    model.add(Dense(128, input_shape=(4,), activation=\"relu\"))\n",
    "    model.add(Dropout(0.6))\n",
    "    model.add(Dense(256, activation=\"relu\"))\n",
    "    model.add(Dropout(0.6))\n",
    "    model.add(Dense(512, activation=\"relu\"))\n",
    "    model.add(Dropout(0.6))\n",
    "    model.add(Dense(256, activation=\"relu\"))\n",
    "    model.add(Dropout(0.6))\n",
    "    model.add(Dense(128, activation=\"relu\"))\n",
    "    model.add(Dropout(0.6))\n",
    "    model.add(Dense(2, activation=\"softmax\"))\n",
    "    model.compile(\n",
    "        loss=\"categorical_crossentropy\",\n",
    "        optimizer=\"adam\",\n",
    "        metrics=[\"accuracy\"])\n",
    "    return model"
   ]
  },
  {
   "cell_type": "code",
   "execution_count": 4,
   "metadata": {
    "scrolled": true
   },
   "outputs": [
    {
     "name": "stdout",
     "output_type": "stream",
     "text": [
      "Average: 62.027692307692305\n",
      "Median: 59.0\n",
      "(20159, 4) (20159, 2)\n",
      "Epoch 1/5\n",
      "20159/20159 [==============================] - 11s - loss: 0.6893 - acc: 0.5532    \n",
      "Epoch 2/5\n",
      "20159/20159 [==============================] - 11s - loss: 0.6812 - acc: 0.5843    \n",
      "Epoch 3/5\n",
      "20159/20159 [==============================] - 9s - loss: 0.6780 - acc: 0.5837     \n",
      "Epoch 4/5\n",
      "20159/20159 [==============================] - 9s - loss: 0.6756 - acc: 0.5938     \n",
      "Epoch 5/5\n",
      "20159/20159 [==============================] - 9s - loss: 0.6744 - acc: 0.5970     \n",
      "187.44\n"
     ]
    }
   ],
   "source": [
    "def predict():\n",
    "    env = gym.make(\"CartPole-v0\")\n",
    "    trainingX, trainingY = gather_data(env)\n",
    "#     print(trainingX.shape,trainingY.shape)\n",
    "    model = create_model()\n",
    "    model.fit(trainingX, trainingY, epochs=5)\n",
    "    scores = []\n",
    "    num_trials = 50\n",
    "    sim_steps = 500\n",
    "    for _ in range(num_trials):\n",
    "        observation = env.reset()\n",
    "        score = 0\n",
    "        for step in range(sim_steps):\n",
    "            action = np.argmax(model.predict(observation.reshape(1,4)))\n",
    "#             print(action.shape)\n",
    "            observation, reward, done, _ = env.step(action)\n",
    "            score += reward\n",
    "            if done:\n",
    "                break\n",
    "        scores.append(score)\n",
    "    print(np.mean(scores))\n",
    "\n",
    "if __name__ == \"__main__\":\n",
    "    predict()"
   ]
  }
 ],
 "metadata": {
  "kernelspec": {
   "display_name": "Python 3",
   "language": "python",
   "name": "python3"
  },
  "language_info": {
   "codemirror_mode": {
    "name": "ipython",
    "version": 3
   },
   "file_extension": ".py",
   "mimetype": "text/x-python",
   "name": "python",
   "nbconvert_exporter": "python",
   "pygments_lexer": "ipython3",
   "version": "3.5.4"
  }
 },
 "nbformat": 4,
 "nbformat_minor": 2
}
