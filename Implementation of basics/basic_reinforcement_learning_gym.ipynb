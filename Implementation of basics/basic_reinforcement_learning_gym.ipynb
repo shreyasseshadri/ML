{
 "cells": [
  {
   "cell_type": "code",
   "execution_count": 1,
   "metadata": {},
   "outputs": [
    {
     "name": "stderr",
     "output_type": "stream",
     "text": [
      "Using TensorFlow backend.\n"
     ]
    }
   ],
   "source": [
    "import numpy as np\n",
    "import gym\n",
    "\n",
    "from keras.models import Sequential\n",
    "from keras.layers import Dense, Activation, Flatten\n",
    "from keras.optimizers import Adam\n",
    "\n",
    "from rl.agents.dqn import DQNAgent\n",
    "from rl.policy import EpsGreedyQPolicy\n",
    "from rl.memory import SequentialMemory"
   ]
  },
  {
   "cell_type": "code",
   "execution_count": 2,
   "metadata": {
    "collapsed": true
   },
   "outputs": [],
   "source": [
    "ENV_NAME = 'CartPole-v0'\n",
    "env = gym.make(ENV_NAME)\n",
    "np.random.seed(123)\n",
    "env.seed(123)\n",
    "nb_actions = env.action_space.n"
   ]
  },
  {
   "cell_type": "code",
   "execution_count": 3,
   "metadata": {},
   "outputs": [
    {
     "name": "stdout",
     "output_type": "stream",
     "text": [
      "_________________________________________________________________\n",
      "Layer (type)                 Output Shape              Param #   \n",
      "=================================================================\n",
      "flatten_1 (Flatten)          (None, 4)                 0         \n",
      "_________________________________________________________________\n",
      "dense_1 (Dense)              (None, 16)                80        \n",
      "_________________________________________________________________\n",
      "activation_1 (Activation)    (None, 16)                0         \n",
      "_________________________________________________________________\n",
      "dense_2 (Dense)              (None, 2)                 34        \n",
      "_________________________________________________________________\n",
      "activation_2 (Activation)    (None, 2)                 0         \n",
      "=================================================================\n",
      "Total params: 114\n",
      "Trainable params: 114\n",
      "Non-trainable params: 0\n",
      "_________________________________________________________________\n",
      "None\n"
     ]
    }
   ],
   "source": [
    "model = Sequential()\n",
    "model.add(Flatten(input_shape=(1,) + env.observation_space.shape))\n",
    "model.add(Dense(16))\n",
    "model.add(Activation('relu'))\n",
    "model.add(Dense(nb_actions))\n",
    "model.add(Activation('linear'))\n",
    "print(model.summary())"
   ]
  },
  {
   "cell_type": "code",
   "execution_count": 4,
   "metadata": {
    "scrolled": true
   },
   "outputs": [
    {
     "name": "stdout",
     "output_type": "stream",
     "text": [
      "Training for 5000 steps ...\n"
     ]
    },
    {
     "name": "stderr",
     "output_type": "stream",
     "text": [
      "C:\\Users\\SHREYAS\\rl\\memory.py:29: UserWarning: Not enough entries to sample without replacement. Consider increasing your warm-up phase to avoid oversampling!\n",
      "  warnings.warn('Not enough entries to sample without replacement. Consider increasing your warm-up phase to avoid oversampling!')\n"
     ]
    },
    {
     "name": "stdout",
     "output_type": "stream",
     "text": [
      "   79/5000: episode: 1, duration: 7.909s, episode steps: 79, steps per second: 10, episode reward: 79.000, mean reward: 1.000 [1.000, 1.000], mean action: 0.519 [0.000, 1.000], mean observation: 0.060 [-0.402, 0.722], loss: 0.427551, mean_absolute_error: 0.495523, mean_q: 0.052745\n",
      "  113/5000: episode: 2, duration: 0.565s, episode steps: 34, steps per second: 60, episode reward: 34.000, mean reward: 1.000 [1.000, 1.000], mean action: 0.529 [0.000, 1.000], mean observation: 0.151 [-0.159, 0.753], loss: 0.351142, mean_absolute_error: 0.445039, mean_q: 0.192280\n",
      "  163/5000: episode: 3, duration: 0.832s, episode steps: 50, steps per second: 60, episode reward: 50.000, mean reward: 1.000 [1.000, 1.000], mean action: 0.520 [0.000, 1.000], mean observation: 0.082 [-0.295, 0.778], loss: 0.313605, mean_absolute_error: 0.464687, mean_q: 0.319058\n",
      "  197/5000: episode: 4, duration: 0.567s, episode steps: 34, steps per second: 60, episode reward: 34.000, mean reward: 1.000 [1.000, 1.000], mean action: 0.529 [0.000, 1.000], mean observation: 0.081 [-0.228, 0.770], loss: 0.273903, mean_absolute_error: 0.499323, mean_q: 0.470604\n",
      "  261/5000: episode: 5, duration: 1.068s, episode steps: 64, steps per second: 60, episode reward: 64.000, mean reward: 1.000 [1.000, 1.000], mean action: 0.500 [0.000, 1.000], mean observation: 0.004 [-0.394, 0.861], loss: 0.225965, mean_absolute_error: 0.556493, mean_q: 0.684006\n",
      "  295/5000: episode: 6, duration: 0.567s, episode steps: 34, steps per second: 60, episode reward: 34.000, mean reward: 1.000 [1.000, 1.000], mean action: 0.500 [0.000, 1.000], mean observation: 0.093 [-0.207, 0.836], loss: 0.171816, mean_absolute_error: 0.630078, mean_q: 0.938625\n",
      "  326/5000: episode: 7, duration: 0.515s, episode steps: 31, steps per second: 60, episode reward: 31.000, mean reward: 1.000 [1.000, 1.000], mean action: 0.516 [0.000, 1.000], mean observation: 0.081 [-0.349, 0.812], loss: 0.146315, mean_absolute_error: 0.713391, mean_q: 1.140454\n",
      "  353/5000: episode: 8, duration: 0.447s, episode steps: 27, steps per second: 60, episode reward: 27.000, mean reward: 1.000 [1.000, 1.000], mean action: 0.519 [0.000, 1.000], mean observation: 0.086 [-0.396, 0.864], loss: 0.119691, mean_absolute_error: 0.788132, mean_q: 1.347009\n",
      "  375/5000: episode: 9, duration: 0.367s, episode steps: 22, steps per second: 60, episode reward: 22.000, mean reward: 1.000 [1.000, 1.000], mean action: 0.500 [0.000, 1.000], mean observation: 0.110 [-0.353, 0.912], loss: 0.097803, mean_absolute_error: 0.855052, mean_q: 1.533164\n",
      "  391/5000: episode: 10, duration: 0.264s, episode steps: 16, steps per second: 61, episode reward: 16.000, mean reward: 1.000 [1.000, 1.000], mean action: 0.500 [0.000, 1.000], mean observation: 0.088 [-0.609, 1.077], loss: 0.094936, mean_absolute_error: 0.928233, mean_q: 1.684295\n",
      "  415/5000: episode: 11, duration: 0.398s, episode steps: 24, steps per second: 60, episode reward: 24.000, mean reward: 1.000 [1.000, 1.000], mean action: 0.500 [0.000, 1.000], mean observation: 0.068 [-0.627, 1.205], loss: 0.089520, mean_absolute_error: 1.000962, mean_q: 1.858942\n",
      "  436/5000: episode: 12, duration: 0.352s, episode steps: 21, steps per second: 60, episode reward: 21.000, mean reward: 1.000 [1.000, 1.000], mean action: 0.476 [0.000, 1.000], mean observation: 0.089 [-0.369, 1.041], loss: 0.086689, mean_absolute_error: 1.085301, mean_q: 2.053540\n",
      "  459/5000: episode: 13, duration: 0.381s, episode steps: 23, steps per second: 60, episode reward: 23.000, mean reward: 1.000 [1.000, 1.000], mean action: 0.478 [0.000, 1.000], mean observation: 0.085 [-0.543, 1.001], loss: 0.085560, mean_absolute_error: 1.166315, mean_q: 2.230861\n",
      "  478/5000: episode: 14, duration: 0.316s, episode steps: 19, steps per second: 60, episode reward: 19.000, mean reward: 1.000 [1.000, 1.000], mean action: 0.421 [0.000, 1.000], mean observation: 0.088 [-0.587, 1.308], loss: 0.092670, mean_absolute_error: 1.241862, mean_q: 2.404493\n",
      "  492/5000: episode: 15, duration: 0.233s, episode steps: 14, steps per second: 60, episode reward: 14.000, mean reward: 1.000 [1.000, 1.000], mean action: 0.429 [0.000, 1.000], mean observation: 0.094 [-0.607, 1.237], loss: 0.096511, mean_absolute_error: 1.312090, mean_q: 2.559564\n",
      "  504/5000: episode: 16, duration: 0.202s, episode steps: 12, steps per second: 59, episode reward: 12.000, mean reward: 1.000 [1.000, 1.000], mean action: 0.417 [0.000, 1.000], mean observation: 0.113 [-0.782, 1.427], loss: 0.121848, mean_absolute_error: 1.392739, mean_q: 2.679394\n",
      "  520/5000: episode: 17, duration: 0.261s, episode steps: 16, steps per second: 61, episode reward: 16.000, mean reward: 1.000 [1.000, 1.000], mean action: 0.375 [0.000, 1.000], mean observation: 0.073 [-0.776, 1.455], loss: 0.135492, mean_absolute_error: 1.463277, mean_q: 2.835613\n",
      "  538/5000: episode: 18, duration: 0.299s, episode steps: 18, steps per second: 60, episode reward: 18.000, mean reward: 1.000 [1.000, 1.000], mean action: 0.389 [0.000, 1.000], mean observation: 0.083 [-0.806, 1.535], loss: 0.109439, mean_absolute_error: 1.498736, mean_q: 2.954937\n",
      "  553/5000: episode: 19, duration: 0.250s, episode steps: 15, steps per second: 60, episode reward: 15.000, mean reward: 1.000 [1.000, 1.000], mean action: 0.400 [0.000, 1.000], mean observation: 0.116 [-0.767, 1.446], loss: 0.173457, mean_absolute_error: 1.610354, mean_q: 3.145912\n",
      "  566/5000: episode: 20, duration: 0.219s, episode steps: 13, steps per second: 59, episode reward: 13.000, mean reward: 1.000 [1.000, 1.000], mean action: 0.385 [0.000, 1.000], mean observation: 0.097 [-0.784, 1.380], loss: 0.181093, mean_absolute_error: 1.688795, mean_q: 3.271293\n",
      "  576/5000: episode: 21, duration: 0.163s, episode steps: 10, steps per second: 61, episode reward: 10.000, mean reward: 1.000 [1.000, 1.000], mean action: 0.300 [0.000, 1.000], mean observation: 0.146 [-0.771, 1.498], loss: 0.191141, mean_absolute_error: 1.702941, mean_q: 3.334450\n",
      "  587/5000: episode: 22, duration: 0.182s, episode steps: 11, steps per second: 60, episode reward: 11.000, mean reward: 1.000 [1.000, 1.000], mean action: 0.273 [0.000, 1.000], mean observation: 0.120 [-0.997, 1.738], loss: 0.220625, mean_absolute_error: 1.766114, mean_q: 3.448771\n",
      "  596/5000: episode: 23, duration: 0.150s, episode steps: 9, steps per second: 60, episode reward: 9.000, mean reward: 1.000 [1.000, 1.000], mean action: 0.222 [0.000, 1.000], mean observation: 0.143 [-0.949, 1.739], loss: 0.206532, mean_absolute_error: 1.808445, mean_q: 3.554943\n",
      "  605/5000: episode: 24, duration: 0.149s, episode steps: 9, steps per second: 61, episode reward: 9.000, mean reward: 1.000 [1.000, 1.000], mean action: 0.111 [0.000, 1.000], mean observation: 0.147 [-1.357, 2.221], loss: 0.350922, mean_absolute_error: 1.925764, mean_q: 3.685252\n",
      "  618/5000: episode: 25, duration: 0.216s, episode steps: 13, steps per second: 60, episode reward: 13.000, mean reward: 1.000 [1.000, 1.000], mean action: 0.308 [0.000, 1.000], mean observation: 0.089 [-1.000, 1.711], loss: 0.263013, mean_absolute_error: 1.938921, mean_q: 3.757131\n",
      "  627/5000: episode: 26, duration: 0.148s, episode steps: 9, steps per second: 61, episode reward: 9.000, mean reward: 1.000 [1.000, 1.000], mean action: 0.222 [0.000, 1.000], mean observation: 0.134 [-1.162, 1.966], loss: 0.254176, mean_absolute_error: 1.956801, mean_q: 3.809192\n",
      "  638/5000: episode: 27, duration: 0.183s, episode steps: 11, steps per second: 60, episode reward: 11.000, mean reward: 1.000 [1.000, 1.000], mean action: 0.273 [0.000, 1.000], mean observation: 0.095 [-1.185, 1.832], loss: 0.340590, mean_absolute_error: 2.038552, mean_q: 3.981900\n",
      "  648/5000: episode: 28, duration: 0.166s, episode steps: 10, steps per second: 60, episode reward: 10.000, mean reward: 1.000 [1.000, 1.000], mean action: 0.300 [0.000, 1.000], mean observation: 0.112 [-1.031, 1.703], loss: 0.375738, mean_absolute_error: 2.125490, mean_q: 4.047139\n",
      "  661/5000: episode: 29, duration: 0.216s, episode steps: 13, steps per second: 60, episode reward: 13.000, mean reward: 1.000 [1.000, 1.000], mean action: 0.385 [0.000, 1.000], mean observation: 0.125 [-0.745, 1.421], loss: 0.381315, mean_absolute_error: 2.161150, mean_q: 4.147397\n",
      "  675/5000: episode: 30, duration: 0.235s, episode steps: 14, steps per second: 59, episode reward: 14.000, mean reward: 1.000 [1.000, 1.000], mean action: 0.357 [0.000, 1.000], mean observation: 0.093 [-0.938, 1.646], loss: 0.379472, mean_absolute_error: 2.155717, mean_q: 4.221052\n",
      "  686/5000: episode: 31, duration: 0.180s, episode steps: 11, steps per second: 61, episode reward: 11.000, mean reward: 1.000 [1.000, 1.000], mean action: 0.273 [0.000, 1.000], mean observation: 0.109 [-1.398, 2.050], loss: 0.407196, mean_absolute_error: 2.245886, mean_q: 4.362156\n"
     ]
    },
    {
     "name": "stdout",
     "output_type": "stream",
     "text": [
      "  695/5000: episode: 32, duration: 0.149s, episode steps: 9, steps per second: 60, episode reward: 9.000, mean reward: 1.000 [1.000, 1.000], mean action: 0.111 [0.000, 1.000], mean observation: 0.130 [-1.418, 2.303], loss: 0.444906, mean_absolute_error: 2.360925, mean_q: 4.503819\n",
      "  705/5000: episode: 33, duration: 0.166s, episode steps: 10, steps per second: 60, episode reward: 10.000, mean reward: 1.000 [1.000, 1.000], mean action: 0.200 [0.000, 1.000], mean observation: 0.139 [-1.345, 2.096], loss: 0.545148, mean_absolute_error: 2.386504, mean_q: 4.583114\n",
      "  714/5000: episode: 34, duration: 0.151s, episode steps: 9, steps per second: 60, episode reward: 9.000, mean reward: 1.000 [1.000, 1.000], mean action: 0.111 [0.000, 1.000], mean observation: 0.151 [-1.516, 2.495], loss: 0.387792, mean_absolute_error: 2.420679, mean_q: 4.665392\n",
      "  722/5000: episode: 35, duration: 0.141s, episode steps: 8, steps per second: 57, episode reward: 8.000, mean reward: 1.000 [1.000, 1.000], mean action: 0.125 [0.000, 1.000], mean observation: 0.138 [-1.394, 2.225], loss: 0.618381, mean_absolute_error: 2.478365, mean_q: 4.737637\n",
      "  732/5000: episode: 36, duration: 0.156s, episode steps: 10, steps per second: 64, episode reward: 10.000, mean reward: 1.000 [1.000, 1.000], mean action: 0.000 [0.000, 0.000], mean observation: 0.134 [-1.977, 3.069], loss: 0.578527, mean_absolute_error: 2.480849, mean_q: 4.834098\n",
      "  744/5000: episode: 37, duration: 0.201s, episode steps: 12, steps per second: 60, episode reward: 12.000, mean reward: 1.000 [1.000, 1.000], mean action: 0.083 [0.000, 1.000], mean observation: 0.126 [-1.938, 3.057], loss: 0.700728, mean_absolute_error: 2.611361, mean_q: 4.974703\n",
      "  752/5000: episode: 38, duration: 0.132s, episode steps: 8, steps per second: 61, episode reward: 8.000, mean reward: 1.000 [1.000, 1.000], mean action: 0.000 [0.000, 0.000], mean observation: 0.143 [-1.547, 2.531], loss: 0.486514, mean_absolute_error: 2.536953, mean_q: 4.927368\n",
      "  764/5000: episode: 39, duration: 0.199s, episode steps: 12, steps per second: 60, episode reward: 12.000, mean reward: 1.000 [1.000, 1.000], mean action: 0.083 [0.000, 1.000], mean observation: 0.102 [-1.956, 3.002], loss: 0.615719, mean_absolute_error: 2.654132, mean_q: 5.025775\n",
      "  773/5000: episode: 40, duration: 0.149s, episode steps: 9, steps per second: 60, episode reward: 9.000, mean reward: 1.000 [1.000, 1.000], mean action: 0.111 [0.000, 1.000], mean observation: 0.139 [-1.577, 2.472], loss: 0.913684, mean_absolute_error: 2.779528, mean_q: 5.164110\n",
      "  781/5000: episode: 41, duration: 0.133s, episode steps: 8, steps per second: 60, episode reward: 8.000, mean reward: 1.000 [1.000, 1.000], mean action: 0.125 [0.000, 1.000], mean observation: 0.157 [-1.175, 2.000], loss: 0.931466, mean_absolute_error: 2.850145, mean_q: 5.157940\n",
      "  792/5000: episode: 42, duration: 0.181s, episode steps: 11, steps per second: 61, episode reward: 11.000, mean reward: 1.000 [1.000, 1.000], mean action: 0.273 [0.000, 1.000], mean observation: 0.106 [-1.225, 1.939], loss: 0.688676, mean_absolute_error: 2.765106, mean_q: 5.178999\n",
      "  801/5000: episode: 43, duration: 0.149s, episode steps: 9, steps per second: 60, episode reward: 9.000, mean reward: 1.000 [1.000, 1.000], mean action: 0.222 [0.000, 1.000], mean observation: 0.171 [-1.140, 2.010], loss: 0.705498, mean_absolute_error: 2.782794, mean_q: 5.251037\n",
      "  811/5000: episode: 44, duration: 0.166s, episode steps: 10, steps per second: 60, episode reward: 10.000, mean reward: 1.000 [1.000, 1.000], mean action: 0.200 [0.000, 1.000], mean observation: 0.140 [-1.330, 2.143], loss: 0.618011, mean_absolute_error: 2.795696, mean_q: 5.363040\n",
      "  820/5000: episode: 45, duration: 0.149s, episode steps: 9, steps per second: 60, episode reward: 9.000, mean reward: 1.000 [1.000, 1.000], mean action: 0.111 [0.000, 1.000], mean observation: 0.151 [-1.332, 2.260], loss: 0.662189, mean_absolute_error: 2.876605, mean_q: 5.498363\n",
      "  829/5000: episode: 46, duration: 0.149s, episode steps: 9, steps per second: 60, episode reward: 9.000, mean reward: 1.000 [1.000, 1.000], mean action: 0.111 [0.000, 1.000], mean observation: 0.176 [-1.338, 2.324], loss: 0.859576, mean_absolute_error: 2.913161, mean_q: 5.617599\n",
      "  838/5000: episode: 47, duration: 0.149s, episode steps: 9, steps per second: 60, episode reward: 9.000, mean reward: 1.000 [1.000, 1.000], mean action: 0.000 [0.000, 0.000], mean observation: 0.164 [-1.721, 2.789], loss: 0.662629, mean_absolute_error: 2.904758, mean_q: 5.662812\n",
      "  847/5000: episode: 48, duration: 0.149s, episode steps: 9, steps per second: 60, episode reward: 9.000, mean reward: 1.000 [1.000, 1.000], mean action: 0.000 [0.000, 0.000], mean observation: 0.124 [-1.794, 2.794], loss: 0.630679, mean_absolute_error: 2.973898, mean_q: 5.715980\n",
      "  857/5000: episode: 49, duration: 0.166s, episode steps: 10, steps per second: 60, episode reward: 10.000, mean reward: 1.000 [1.000, 1.000], mean action: 0.100 [0.000, 1.000], mean observation: 0.141 [-1.575, 2.564], loss: 0.762435, mean_absolute_error: 3.001155, mean_q: 5.800227\n",
      "  867/5000: episode: 50, duration: 0.166s, episode steps: 10, steps per second: 60, episode reward: 10.000, mean reward: 1.000 [1.000, 1.000], mean action: 0.100 [0.000, 1.000], mean observation: 0.115 [-1.587, 2.464], loss: 0.871858, mean_absolute_error: 3.075922, mean_q: 5.809617\n",
      "  877/5000: episode: 51, duration: 0.166s, episode steps: 10, steps per second: 60, episode reward: 10.000, mean reward: 1.000 [1.000, 1.000], mean action: 0.100 [0.000, 1.000], mean observation: 0.142 [-1.533, 2.533], loss: 0.867885, mean_absolute_error: 3.145375, mean_q: 5.860069\n",
      "  889/5000: episode: 52, duration: 0.199s, episode steps: 12, steps per second: 60, episode reward: 12.000, mean reward: 1.000 [1.000, 1.000], mean action: 0.167 [0.000, 1.000], mean observation: 0.099 [-1.597, 2.442], loss: 0.843167, mean_absolute_error: 3.142869, mean_q: 5.975624\n",
      "  900/5000: episode: 53, duration: 0.183s, episode steps: 11, steps per second: 60, episode reward: 11.000, mean reward: 1.000 [1.000, 1.000], mean action: 0.182 [0.000, 1.000], mean observation: 0.122 [-1.412, 2.199], loss: 0.880396, mean_absolute_error: 3.207572, mean_q: 6.038401\n",
      "  910/5000: episode: 54, duration: 0.166s, episode steps: 10, steps per second: 60, episode reward: 10.000, mean reward: 1.000 [1.000, 1.000], mean action: 0.200 [0.000, 1.000], mean observation: 0.123 [-1.183, 1.955], loss: 0.936559, mean_absolute_error: 3.253534, mean_q: 6.026925\n",
      "  919/5000: episode: 55, duration: 0.157s, episode steps: 9, steps per second: 57, episode reward: 9.000, mean reward: 1.000 [1.000, 1.000], mean action: 0.222 [0.000, 1.000], mean observation: 0.124 [-1.156, 1.887], loss: 1.077593, mean_absolute_error: 3.295533, mean_q: 6.082542\n",
      "  930/5000: episode: 56, duration: 0.177s, episode steps: 11, steps per second: 62, episode reward: 11.000, mean reward: 1.000 [1.000, 1.000], mean action: 0.273 [0.000, 1.000], mean observation: 0.100 [-1.205, 1.879], loss: 1.014289, mean_absolute_error: 3.323712, mean_q: 6.116316\n",
      "  940/5000: episode: 57, duration: 0.165s, episode steps: 10, steps per second: 60, episode reward: 10.000, mean reward: 1.000 [1.000, 1.000], mean action: 0.300 [0.000, 1.000], mean observation: 0.117 [-0.996, 1.639], loss: 0.586243, mean_absolute_error: 3.272346, mean_q: 6.169994\n",
      "  951/5000: episode: 58, duration: 0.180s, episode steps: 11, steps per second: 61, episode reward: 11.000, mean reward: 1.000 [1.000, 1.000], mean action: 0.364 [0.000, 1.000], mean observation: 0.112 [-0.952, 1.596], loss: 0.816693, mean_absolute_error: 3.327859, mean_q: 6.320714\n",
      "  960/5000: episode: 59, duration: 0.150s, episode steps: 9, steps per second: 60, episode reward: 9.000, mean reward: 1.000 [1.000, 1.000], mean action: 0.333 [0.000, 1.000], mean observation: 0.120 [-1.019, 1.649], loss: 0.927432, mean_absolute_error: 3.445757, mean_q: 6.356278\n",
      "  971/5000: episode: 60, duration: 0.183s, episode steps: 11, steps per second: 60, episode reward: 11.000, mean reward: 1.000 [1.000, 1.000], mean action: 0.273 [0.000, 1.000], mean observation: 0.111 [-1.026, 1.683], loss: 0.918135, mean_absolute_error: 3.413180, mean_q: 6.417300\n",
      "  983/5000: episode: 61, duration: 0.199s, episode steps: 12, steps per second: 60, episode reward: 12.000, mean reward: 1.000 [1.000, 1.000], mean action: 0.333 [0.000, 1.000], mean observation: 0.083 [-1.184, 1.769], loss: 0.957199, mean_absolute_error: 3.473023, mean_q: 6.437831\n"
     ]
    },
    {
     "name": "stdout",
     "output_type": "stream",
     "text": [
      "  995/5000: episode: 62, duration: 0.200s, episode steps: 12, steps per second: 60, episode reward: 12.000, mean reward: 1.000 [1.000, 1.000], mean action: 0.333 [0.000, 1.000], mean observation: 0.107 [-1.166, 1.775], loss: 0.637031, mean_absolute_error: 3.434582, mean_q: 6.499945\n",
      " 1010/5000: episode: 63, duration: 0.250s, episode steps: 15, steps per second: 60, episode reward: 15.000, mean reward: 1.000 [1.000, 1.000], mean action: 0.333 [0.000, 1.000], mean observation: 0.092 [-1.134, 1.835], loss: 0.963911, mean_absolute_error: 3.540878, mean_q: 6.652359\n",
      " 1022/5000: episode: 64, duration: 0.199s, episode steps: 12, steps per second: 60, episode reward: 12.000, mean reward: 1.000 [1.000, 1.000], mean action: 0.250 [0.000, 1.000], mean observation: 0.119 [-1.137, 1.980], loss: 0.554560, mean_absolute_error: 3.511672, mean_q: 6.700005\n",
      " 1035/5000: episode: 65, duration: 0.216s, episode steps: 13, steps per second: 60, episode reward: 13.000, mean reward: 1.000 [1.000, 1.000], mean action: 0.385 [0.000, 1.000], mean observation: 0.085 [-1.184, 1.728], loss: 0.929467, mean_absolute_error: 3.627600, mean_q: 6.835320\n",
      " 1049/5000: episode: 66, duration: 0.233s, episode steps: 14, steps per second: 60, episode reward: 14.000, mean reward: 1.000 [1.000, 1.000], mean action: 0.357 [0.000, 1.000], mean observation: 0.095 [-0.775, 1.454], loss: 0.947970, mean_absolute_error: 3.668681, mean_q: 6.849854\n",
      " 1062/5000: episode: 67, duration: 0.218s, episode steps: 13, steps per second: 60, episode reward: 13.000, mean reward: 1.000 [1.000, 1.000], mean action: 0.385 [0.000, 1.000], mean observation: 0.088 [-0.980, 1.448], loss: 0.778854, mean_absolute_error: 3.680970, mean_q: 6.921968\n",
      " 1073/5000: episode: 68, duration: 0.181s, episode steps: 11, steps per second: 61, episode reward: 11.000, mean reward: 1.000 [1.000, 1.000], mean action: 0.364 [0.000, 1.000], mean observation: 0.115 [-0.768, 1.406], loss: 1.045572, mean_absolute_error: 3.748459, mean_q: 7.024266\n",
      " 1086/5000: episode: 69, duration: 0.216s, episode steps: 13, steps per second: 60, episode reward: 13.000, mean reward: 1.000 [1.000, 1.000], mean action: 0.385 [0.000, 1.000], mean observation: 0.090 [-0.776, 1.375], loss: 1.168120, mean_absolute_error: 3.812262, mean_q: 7.050454\n",
      " 1100/5000: episode: 70, duration: 0.236s, episode steps: 14, steps per second: 59, episode reward: 14.000, mean reward: 1.000 [1.000, 1.000], mean action: 0.429 [0.000, 1.000], mean observation: 0.109 [-0.773, 1.365], loss: 0.801870, mean_absolute_error: 3.776713, mean_q: 7.098070\n",
      " 1111/5000: episode: 71, duration: 0.179s, episode steps: 11, steps per second: 61, episode reward: 11.000, mean reward: 1.000 [1.000, 1.000], mean action: 0.364 [0.000, 1.000], mean observation: 0.111 [-0.826, 1.221], loss: 0.833576, mean_absolute_error: 3.794031, mean_q: 7.140912\n",
      " 1121/5000: episode: 72, duration: 0.167s, episode steps: 10, steps per second: 60, episode reward: 10.000, mean reward: 1.000 [1.000, 1.000], mean action: 0.300 [0.000, 1.000], mean observation: 0.134 [-0.762, 1.511], loss: 1.104484, mean_absolute_error: 3.863754, mean_q: 7.219287\n",
      " 1137/5000: episode: 73, duration: 0.266s, episode steps: 16, steps per second: 60, episode reward: 16.000, mean reward: 1.000 [1.000, 1.000], mean action: 0.438 [0.000, 1.000], mean observation: 0.059 [-0.829, 1.285], loss: 1.194065, mean_absolute_error: 3.932253, mean_q: 7.263845\n",
      " 1147/5000: episode: 74, duration: 0.166s, episode steps: 10, steps per second: 60, episode reward: 10.000, mean reward: 1.000 [1.000, 1.000], mean action: 0.400 [0.000, 1.000], mean observation: 0.135 [-0.753, 1.379], loss: 1.362930, mean_absolute_error: 3.962099, mean_q: 7.183634\n",
      " 1157/5000: episode: 75, duration: 0.166s, episode steps: 10, steps per second: 60, episode reward: 10.000, mean reward: 1.000 [1.000, 1.000], mean action: 0.300 [0.000, 1.000], mean observation: 0.117 [-0.958, 1.534], loss: 1.269116, mean_absolute_error: 3.963449, mean_q: 7.221461\n",
      " 1168/5000: episode: 76, duration: 0.182s, episode steps: 11, steps per second: 60, episode reward: 11.000, mean reward: 1.000 [1.000, 1.000], mean action: 0.364 [0.000, 1.000], mean observation: 0.140 [-0.936, 1.555], loss: 0.971712, mean_absolute_error: 3.956667, mean_q: 7.323906\n",
      " 1181/5000: episode: 77, duration: 0.216s, episode steps: 13, steps per second: 60, episode reward: 13.000, mean reward: 1.000 [1.000, 1.000], mean action: 0.308 [0.000, 1.000], mean observation: 0.098 [-0.960, 1.651], loss: 1.435063, mean_absolute_error: 4.016627, mean_q: 7.372919\n",
      " 1190/5000: episode: 78, duration: 0.150s, episode steps: 9, steps per second: 60, episode reward: 9.000, mean reward: 1.000 [1.000, 1.000], mean action: 0.222 [0.000, 1.000], mean observation: 0.141 [-0.943, 1.705], loss: 0.863668, mean_absolute_error: 3.957639, mean_q: 7.409942\n",
      " 1201/5000: episode: 79, duration: 0.184s, episode steps: 11, steps per second: 60, episode reward: 11.000, mean reward: 1.000 [1.000, 1.000], mean action: 0.364 [0.000, 1.000], mean observation: 0.121 [-0.946, 1.618], loss: 0.947184, mean_absolute_error: 3.996050, mean_q: 7.516782\n",
      " 1214/5000: episode: 80, duration: 0.221s, episode steps: 13, steps per second: 59, episode reward: 13.000, mean reward: 1.000 [1.000, 1.000], mean action: 0.385 [0.000, 1.000], mean observation: 0.113 [-0.934, 1.491], loss: 1.041100, mean_absolute_error: 4.038525, mean_q: 7.563612\n",
      " 1228/5000: episode: 81, duration: 0.231s, episode steps: 14, steps per second: 61, episode reward: 14.000, mean reward: 1.000 [1.000, 1.000], mean action: 0.429 [0.000, 1.000], mean observation: 0.110 [-0.768, 1.211], loss: 1.221092, mean_absolute_error: 4.098724, mean_q: 7.565855\n",
      " 1243/5000: episode: 82, duration: 0.245s, episode steps: 15, steps per second: 61, episode reward: 15.000, mean reward: 1.000 [1.000, 1.000], mean action: 0.400 [0.000, 1.000], mean observation: 0.096 [-0.740, 1.225], loss: 1.273909, mean_absolute_error: 4.165585, mean_q: 7.631522\n",
      " 1262/5000: episode: 83, duration: 0.316s, episode steps: 19, steps per second: 60, episode reward: 19.000, mean reward: 1.000 [1.000, 1.000], mean action: 0.421 [0.000, 1.000], mean observation: 0.073 [-0.624, 1.273], loss: 0.978690, mean_absolute_error: 4.141000, mean_q: 7.692315\n",
      " 1275/5000: episode: 84, duration: 0.230s, episode steps: 13, steps per second: 57, episode reward: 13.000, mean reward: 1.000 [1.000, 1.000], mean action: 0.385 [0.000, 1.000], mean observation: 0.104 [-0.738, 1.197], loss: 1.890331, mean_absolute_error: 4.268301, mean_q: 7.669963\n",
      " 1289/5000: episode: 85, duration: 0.238s, episode steps: 14, steps per second: 59, episode reward: 14.000, mean reward: 1.000 [1.000, 1.000], mean action: 0.429 [0.000, 1.000], mean observation: 0.106 [-0.605, 1.111], loss: 1.410502, mean_absolute_error: 4.239104, mean_q: 7.636931\n",
      " 1306/5000: episode: 86, duration: 0.285s, episode steps: 17, steps per second: 60, episode reward: 17.000, mean reward: 1.000 [1.000, 1.000], mean action: 0.471 [0.000, 1.000], mean observation: 0.092 [-0.578, 0.998], loss: 1.083849, mean_absolute_error: 4.236132, mean_q: 7.794179\n",
      " 1324/5000: episode: 87, duration: 0.298s, episode steps: 18, steps per second: 60, episode reward: 18.000, mean reward: 1.000 [1.000, 1.000], mean action: 0.444 [0.000, 1.000], mean observation: 0.091 [-0.549, 1.096], loss: 1.132196, mean_absolute_error: 4.265508, mean_q: 7.900272\n",
      " 1351/5000: episode: 88, duration: 0.446s, episode steps: 27, steps per second: 60, episode reward: 27.000, mean reward: 1.000 [1.000, 1.000], mean action: 0.519 [0.000, 1.000], mean observation: 0.064 [-0.619, 0.843], loss: 1.427127, mean_absolute_error: 4.311954, mean_q: 7.809093\n",
      " 1394/5000: episode: 89, duration: 0.716s, episode steps: 43, steps per second: 60, episode reward: 43.000, mean reward: 1.000 [1.000, 1.000], mean action: 0.512 [0.000, 1.000], mean observation: 0.071 [-0.287, 1.050], loss: 1.222873, mean_absolute_error: 4.365497, mean_q: 8.036553\n",
      " 1451/5000: episode: 90, duration: 0.950s, episode steps: 57, steps per second: 60, episode reward: 57.000, mean reward: 1.000 [1.000, 1.000], mean action: 0.509 [0.000, 1.000], mean observation: 0.055 [-0.356, 1.064], loss: 1.177338, mean_absolute_error: 4.452478, mean_q: 8.239496\n"
     ]
    },
    {
     "name": "stdout",
     "output_type": "stream",
     "text": [
      " 1516/5000: episode: 91, duration: 1.082s, episode steps: 65, steps per second: 60, episode reward: 65.000, mean reward: 1.000 [1.000, 1.000], mean action: 0.477 [0.000, 1.000], mean observation: -0.113 [-0.878, 0.425], loss: 1.006805, mean_absolute_error: 4.608014, mean_q: 8.677599\n",
      " 1573/5000: episode: 92, duration: 0.949s, episode steps: 57, steps per second: 60, episode reward: 57.000, mean reward: 1.000 [1.000, 1.000], mean action: 0.491 [0.000, 1.000], mean observation: -0.093 [-0.943, 0.452], loss: 1.267358, mean_absolute_error: 4.781363, mean_q: 8.922915\n",
      " 1599/5000: episode: 93, duration: 0.435s, episode steps: 26, steps per second: 60, episode reward: 26.000, mean reward: 1.000 [1.000, 1.000], mean action: 0.500 [0.000, 1.000], mean observation: -0.099 [-0.865, 0.390], loss: 1.179109, mean_absolute_error: 4.895144, mean_q: 9.212114\n",
      " 1616/5000: episode: 94, duration: 0.283s, episode steps: 17, steps per second: 60, episode reward: 17.000, mean reward: 1.000 [1.000, 1.000], mean action: 0.529 [0.000, 1.000], mean observation: -0.094 [-0.990, 0.386], loss: 1.311129, mean_absolute_error: 4.935105, mean_q: 9.286993\n",
      " 1652/5000: episode: 95, duration: 0.595s, episode steps: 36, steps per second: 60, episode reward: 36.000, mean reward: 1.000 [1.000, 1.000], mean action: 0.528 [0.000, 1.000], mean observation: 0.143 [-0.233, 0.838], loss: 1.373665, mean_absolute_error: 5.021732, mean_q: 9.438720\n",
      " 1677/5000: episode: 96, duration: 0.420s, episode steps: 25, steps per second: 60, episode reward: 25.000, mean reward: 1.000 [1.000, 1.000], mean action: 0.520 [0.000, 1.000], mean observation: -0.060 [-1.190, 0.645], loss: 1.632643, mean_absolute_error: 5.117176, mean_q: 9.544755\n",
      " 1692/5000: episode: 97, duration: 0.249s, episode steps: 15, steps per second: 60, episode reward: 15.000, mean reward: 1.000 [1.000, 1.000], mean action: 0.600 [0.000, 1.000], mean observation: -0.107 [-1.333, 0.591], loss: 1.272866, mean_absolute_error: 5.086396, mean_q: 9.510934\n",
      " 1727/5000: episode: 98, duration: 0.582s, episode steps: 35, steps per second: 60, episode reward: 35.000, mean reward: 1.000 [1.000, 1.000], mean action: 0.514 [0.000, 1.000], mean observation: 0.101 [-0.261, 0.893], loss: 1.077035, mean_absolute_error: 5.193799, mean_q: 9.928731\n",
      " 1748/5000: episode: 99, duration: 0.346s, episode steps: 21, steps per second: 61, episode reward: 21.000, mean reward: 1.000 [1.000, 1.000], mean action: 0.619 [0.000, 1.000], mean observation: -0.082 [-1.878, 0.983], loss: 2.062424, mean_absolute_error: 5.367554, mean_q: 10.051450\n",
      " 1757/5000: episode: 100, duration: 0.149s, episode steps: 9, steps per second: 60, episode reward: 9.000, mean reward: 1.000 [1.000, 1.000], mean action: 1.000 [1.000, 1.000], mean observation: -0.182 [-2.887, 1.722], loss: 1.042829, mean_absolute_error: 5.218016, mean_q: 9.848711\n",
      " 1768/5000: episode: 101, duration: 0.183s, episode steps: 11, steps per second: 60, episode reward: 11.000, mean reward: 1.000 [1.000, 1.000], mean action: 0.818 [0.000, 1.000], mean observation: -0.135 [-2.345, 1.383], loss: 1.527192, mean_absolute_error: 5.368856, mean_q: 10.091434\n",
      " 1780/5000: episode: 102, duration: 0.199s, episode steps: 12, steps per second: 60, episode reward: 12.000, mean reward: 1.000 [1.000, 1.000], mean action: 0.667 [0.000, 1.000], mean observation: -0.119 [-1.579, 0.785], loss: 1.879328, mean_absolute_error: 5.414219, mean_q: 10.108584\n",
      " 1794/5000: episode: 103, duration: 0.233s, episode steps: 14, steps per second: 60, episode reward: 14.000, mean reward: 1.000 [1.000, 1.000], mean action: 0.571 [0.000, 1.000], mean observation: -0.099 [-1.286, 0.610], loss: 1.414760, mean_absolute_error: 5.486114, mean_q: 10.316645\n",
      " 1845/5000: episode: 104, duration: 0.849s, episode steps: 51, steps per second: 60, episode reward: 51.000, mean reward: 1.000 [1.000, 1.000], mean action: 0.510 [0.000, 1.000], mean observation: 0.087 [-0.349, 0.916], loss: 1.638315, mean_absolute_error: 5.529847, mean_q: 10.449861\n",
      " 1861/5000: episode: 105, duration: 0.266s, episode steps: 16, steps per second: 60, episode reward: 16.000, mean reward: 1.000 [1.000, 1.000], mean action: 0.562 [0.000, 1.000], mean observation: -0.107 [-1.319, 0.586], loss: 1.682339, mean_absolute_error: 5.588307, mean_q: 10.548204\n",
      " 1877/5000: episode: 106, duration: 0.267s, episode steps: 16, steps per second: 60, episode reward: 16.000, mean reward: 1.000 [1.000, 1.000], mean action: 0.562 [0.000, 1.000], mean observation: -0.109 [-1.110, 0.579], loss: 1.630542, mean_absolute_error: 5.677080, mean_q: 10.709257\n",
      " 1901/5000: episode: 107, duration: 0.399s, episode steps: 24, steps per second: 60, episode reward: 24.000, mean reward: 1.000 [1.000, 1.000], mean action: 0.542 [0.000, 1.000], mean observation: -0.057 [-1.084, 0.609], loss: 1.696129, mean_absolute_error: 5.710270, mean_q: 10.749413\n",
      " 1921/5000: episode: 108, duration: 0.333s, episode steps: 20, steps per second: 60, episode reward: 20.000, mean reward: 1.000 [1.000, 1.000], mean action: 0.550 [0.000, 1.000], mean observation: -0.064 [-1.323, 0.648], loss: 1.238339, mean_absolute_error: 5.743075, mean_q: 10.945445\n",
      " 1956/5000: episode: 109, duration: 0.582s, episode steps: 35, steps per second: 60, episode reward: 35.000, mean reward: 1.000 [1.000, 1.000], mean action: 0.543 [0.000, 1.000], mean observation: -0.018 [-1.277, 0.639], loss: 1.914848, mean_absolute_error: 5.865644, mean_q: 11.082606\n",
      " 1977/5000: episode: 110, duration: 0.351s, episode steps: 21, steps per second: 60, episode reward: 21.000, mean reward: 1.000 [1.000, 1.000], mean action: 0.524 [0.000, 1.000], mean observation: -0.092 [-1.095, 0.597], loss: 1.673950, mean_absolute_error: 5.890705, mean_q: 11.234553\n",
      " 2010/5000: episode: 111, duration: 0.550s, episode steps: 33, steps per second: 60, episode reward: 33.000, mean reward: 1.000 [1.000, 1.000], mean action: 0.515 [0.000, 1.000], mean observation: -0.084 [-1.227, 0.407], loss: 2.226415, mean_absolute_error: 6.017138, mean_q: 11.242861\n",
      " 2037/5000: episode: 112, duration: 0.449s, episode steps: 27, steps per second: 60, episode reward: 27.000, mean reward: 1.000 [1.000, 1.000], mean action: 0.519 [0.000, 1.000], mean observation: -0.081 [-1.199, 0.436], loss: 1.637038, mean_absolute_error: 6.048172, mean_q: 11.383778\n",
      " 2068/5000: episode: 113, duration: 0.519s, episode steps: 31, steps per second: 60, episode reward: 31.000, mean reward: 1.000 [1.000, 1.000], mean action: 0.548 [0.000, 1.000], mean observation: -0.033 [-1.361, 0.632], loss: 1.624691, mean_absolute_error: 6.122986, mean_q: 11.733848\n",
      " 2092/5000: episode: 114, duration: 0.395s, episode steps: 24, steps per second: 61, episode reward: 24.000, mean reward: 1.000 [1.000, 1.000], mean action: 0.542 [0.000, 1.000], mean observation: -0.071 [-1.169, 0.564], loss: 2.360108, mean_absolute_error: 6.255312, mean_q: 11.823665\n",
      " 2112/5000: episode: 115, duration: 0.338s, episode steps: 20, steps per second: 59, episode reward: 20.000, mean reward: 1.000 [1.000, 1.000], mean action: 0.600 [0.000, 1.000], mean observation: -0.085 [-1.525, 0.760], loss: 1.983695, mean_absolute_error: 6.286646, mean_q: 11.898560\n",
      " 2133/5000: episode: 116, duration: 0.348s, episode steps: 21, steps per second: 60, episode reward: 21.000, mean reward: 1.000 [1.000, 1.000], mean action: 0.571 [0.000, 1.000], mean observation: -0.057 [-1.420, 0.763], loss: 2.424423, mean_absolute_error: 6.403339, mean_q: 12.124551\n",
      " 2145/5000: episode: 117, duration: 0.201s, episode steps: 12, steps per second: 60, episode reward: 12.000, mean reward: 1.000 [1.000, 1.000], mean action: 0.667 [0.000, 1.000], mean observation: -0.124 [-1.616, 0.806], loss: 1.647160, mean_absolute_error: 6.334927, mean_q: 12.140137\n",
      " 2157/5000: episode: 118, duration: 0.197s, episode steps: 12, steps per second: 61, episode reward: 12.000, mean reward: 1.000 [1.000, 1.000], mean action: 0.583 [0.000, 1.000], mean observation: -0.112 [-1.088, 0.569], loss: 2.546580, mean_absolute_error: 6.479569, mean_q: 12.211491\n",
      " 2172/5000: episode: 119, duration: 0.248s, episode steps: 15, steps per second: 60, episode reward: 15.000, mean reward: 1.000 [1.000, 1.000], mean action: 0.533 [0.000, 1.000], mean observation: -0.117 [-1.068, 0.420], loss: 2.395817, mean_absolute_error: 6.527393, mean_q: 12.344213\n"
     ]
    },
    {
     "name": "stdout",
     "output_type": "stream",
     "text": [
      " 2191/5000: episode: 120, duration: 0.314s, episode steps: 19, steps per second: 61, episode reward: 19.000, mean reward: 1.000 [1.000, 1.000], mean action: 0.526 [0.000, 1.000], mean observation: -0.095 [-1.151, 0.458], loss: 2.999661, mean_absolute_error: 6.583381, mean_q: 12.291676\n",
      " 2214/5000: episode: 121, duration: 0.383s, episode steps: 23, steps per second: 60, episode reward: 23.000, mean reward: 1.000 [1.000, 1.000], mean action: 0.565 [0.000, 1.000], mean observation: -0.110 [-1.463, 0.573], loss: 2.673133, mean_absolute_error: 6.530562, mean_q: 12.196841\n",
      " 2282/5000: episode: 122, duration: 1.131s, episode steps: 68, steps per second: 60, episode reward: 68.000, mean reward: 1.000 [1.000, 1.000], mean action: 0.500 [0.000, 1.000], mean observation: 0.087 [-0.290, 1.172], loss: 2.261793, mean_absolute_error: 6.642526, mean_q: 12.531883\n",
      " 2304/5000: episode: 123, duration: 0.368s, episode steps: 22, steps per second: 60, episode reward: 22.000, mean reward: 1.000 [1.000, 1.000], mean action: 0.545 [0.000, 1.000], mean observation: -0.119 [-1.234, 0.380], loss: 2.375315, mean_absolute_error: 6.698354, mean_q: 12.621324\n",
      " 2325/5000: episode: 124, duration: 0.348s, episode steps: 21, steps per second: 60, episode reward: 21.000, mean reward: 1.000 [1.000, 1.000], mean action: 0.476 [0.000, 1.000], mean observation: 0.099 [-0.400, 1.002], loss: 2.024026, mean_absolute_error: 6.785463, mean_q: 12.852293\n",
      " 2386/5000: episode: 125, duration: 1.017s, episode steps: 61, steps per second: 60, episode reward: 61.000, mean reward: 1.000 [1.000, 1.000], mean action: 0.492 [0.000, 1.000], mean observation: 0.073 [-0.395, 1.152], loss: 2.232754, mean_absolute_error: 6.818089, mean_q: 12.916414\n",
      " 2425/5000: episode: 126, duration: 0.650s, episode steps: 39, steps per second: 60, episode reward: 39.000, mean reward: 1.000 [1.000, 1.000], mean action: 0.513 [0.000, 1.000], mean observation: -0.105 [-1.242, 0.264], loss: 1.880984, mean_absolute_error: 6.895548, mean_q: 13.138736\n",
      " 2495/5000: episode: 127, duration: 1.170s, episode steps: 70, steps per second: 60, episode reward: 70.000, mean reward: 1.000 [1.000, 1.000], mean action: 0.500 [0.000, 1.000], mean observation: -0.071 [-1.009, 0.587], loss: 2.668038, mean_absolute_error: 7.037626, mean_q: 13.280974\n",
      " 2522/5000: episode: 128, duration: 0.447s, episode steps: 27, steps per second: 60, episode reward: 27.000, mean reward: 1.000 [1.000, 1.000], mean action: 0.519 [0.000, 1.000], mean observation: 0.099 [-0.350, 0.900], loss: 2.509595, mean_absolute_error: 6.998426, mean_q: 13.247328\n",
      " 2549/5000: episode: 129, duration: 0.445s, episode steps: 27, steps per second: 61, episode reward: 27.000, mean reward: 1.000 [1.000, 1.000], mean action: 0.519 [0.000, 1.000], mean observation: 0.099 [-0.224, 0.832], loss: 2.869056, mean_absolute_error: 7.116115, mean_q: 13.438987\n",
      " 2600/5000: episode: 130, duration: 0.851s, episode steps: 51, steps per second: 60, episode reward: 51.000, mean reward: 1.000 [1.000, 1.000], mean action: 0.490 [0.000, 1.000], mean observation: -0.046 [-1.042, 0.374], loss: 2.188588, mean_absolute_error: 7.162176, mean_q: 13.663659\n",
      " 2633/5000: episode: 131, duration: 0.547s, episode steps: 33, steps per second: 60, episode reward: 33.000, mean reward: 1.000 [1.000, 1.000], mean action: 0.485 [0.000, 1.000], mean observation: 0.054 [-0.411, 1.001], loss: 2.299048, mean_absolute_error: 7.187835, mean_q: 13.666851\n",
      " 2660/5000: episode: 132, duration: 0.450s, episode steps: 27, steps per second: 60, episode reward: 27.000, mean reward: 1.000 [1.000, 1.000], mean action: 0.519 [0.000, 1.000], mean observation: 0.119 [-0.574, 0.960], loss: 2.601045, mean_absolute_error: 7.375418, mean_q: 14.043464\n",
      " 2712/5000: episode: 133, duration: 0.866s, episode steps: 52, steps per second: 60, episode reward: 52.000, mean reward: 1.000 [1.000, 1.000], mean action: 0.500 [0.000, 1.000], mean observation: -0.055 [-1.178, 0.419], loss: 2.426467, mean_absolute_error: 7.342781, mean_q: 13.988148\n",
      " 2746/5000: episode: 134, duration: 0.566s, episode steps: 34, steps per second: 60, episode reward: 34.000, mean reward: 1.000 [1.000, 1.000], mean action: 0.500 [0.000, 1.000], mean observation: 0.069 [-0.371, 0.935], loss: 2.445249, mean_absolute_error: 7.482359, mean_q: 14.304528\n",
      " 2785/5000: episode: 135, duration: 0.651s, episode steps: 39, steps per second: 60, episode reward: 39.000, mean reward: 1.000 [1.000, 1.000], mean action: 0.487 [0.000, 1.000], mean observation: -0.103 [-0.906, 0.215], loss: 2.365555, mean_absolute_error: 7.481937, mean_q: 14.284753\n",
      " 2840/5000: episode: 136, duration: 0.914s, episode steps: 55, steps per second: 60, episode reward: 55.000, mean reward: 1.000 [1.000, 1.000], mean action: 0.509 [0.000, 1.000], mean observation: 0.079 [-0.271, 0.950], loss: 2.380042, mean_absolute_error: 7.656003, mean_q: 14.672186\n",
      " 2890/5000: episode: 137, duration: 0.833s, episode steps: 50, steps per second: 60, episode reward: 50.000, mean reward: 1.000 [1.000, 1.000], mean action: 0.500 [0.000, 1.000], mean observation: 0.069 [-0.385, 0.962], loss: 2.471967, mean_absolute_error: 7.737359, mean_q: 14.835004\n",
      " 2934/5000: episode: 138, duration: 0.733s, episode steps: 44, steps per second: 60, episode reward: 44.000, mean reward: 1.000 [1.000, 1.000], mean action: 0.500 [0.000, 1.000], mean observation: -0.084 [-0.976, 0.222], loss: 2.986993, mean_absolute_error: 7.853542, mean_q: 14.923130\n",
      " 2986/5000: episode: 139, duration: 0.866s, episode steps: 52, steps per second: 60, episode reward: 52.000, mean reward: 1.000 [1.000, 1.000], mean action: 0.500 [0.000, 1.000], mean observation: -0.071 [-1.164, 0.325], loss: 1.890038, mean_absolute_error: 7.865934, mean_q: 15.213073\n",
      " 3018/5000: episode: 140, duration: 0.532s, episode steps: 32, steps per second: 60, episode reward: 32.000, mean reward: 1.000 [1.000, 1.000], mean action: 0.500 [0.000, 1.000], mean observation: -0.114 [-0.936, 0.202], loss: 3.762530, mean_absolute_error: 8.090849, mean_q: 15.290482\n",
      " 3088/5000: episode: 141, duration: 1.166s, episode steps: 70, steps per second: 60, episode reward: 70.000, mean reward: 1.000 [1.000, 1.000], mean action: 0.500 [0.000, 1.000], mean observation: 0.048 [-0.327, 0.935], loss: 3.225631, mean_absolute_error: 8.062767, mean_q: 15.292667\n",
      " 3127/5000: episode: 142, duration: 0.649s, episode steps: 39, steps per second: 60, episode reward: 39.000, mean reward: 1.000 [1.000, 1.000], mean action: 0.487 [0.000, 1.000], mean observation: -0.120 [-1.061, 0.389], loss: 2.497751, mean_absolute_error: 8.156265, mean_q: 15.664720\n",
      " 3152/5000: episode: 143, duration: 0.417s, episode steps: 25, steps per second: 60, episode reward: 25.000, mean reward: 1.000 [1.000, 1.000], mean action: 0.520 [0.000, 1.000], mean observation: 0.149 [-0.348, 0.900], loss: 2.736530, mean_absolute_error: 8.236905, mean_q: 15.841711\n",
      " 3199/5000: episode: 144, duration: 0.782s, episode steps: 47, steps per second: 60, episode reward: 47.000, mean reward: 1.000 [1.000, 1.000], mean action: 0.489 [0.000, 1.000], mean observation: -0.071 [-1.147, 0.394], loss: 2.626520, mean_absolute_error: 8.316342, mean_q: 16.027634\n",
      " 3253/5000: episode: 145, duration: 0.906s, episode steps: 54, steps per second: 60, episode reward: 54.000, mean reward: 1.000 [1.000, 1.000], mean action: 0.519 [0.000, 1.000], mean observation: 0.102 [-0.260, 0.739], loss: 3.180087, mean_absolute_error: 8.447901, mean_q: 16.193354\n",
      " 3281/5000: episode: 146, duration: 0.459s, episode steps: 28, steps per second: 61, episode reward: 28.000, mean reward: 1.000 [1.000, 1.000], mean action: 0.464 [0.000, 1.000], mean observation: -0.131 [-0.826, 0.184], loss: 2.767806, mean_absolute_error: 8.473973, mean_q: 16.366255\n",
      " 3315/5000: episode: 147, duration: 0.565s, episode steps: 34, steps per second: 60, episode reward: 34.000, mean reward: 1.000 [1.000, 1.000], mean action: 0.471 [0.000, 1.000], mean observation: -0.110 [-0.996, 0.355], loss: 3.414064, mean_absolute_error: 8.601201, mean_q: 16.420132\n",
      " 3377/5000: episode: 148, duration: 1.033s, episode steps: 62, steps per second: 60, episode reward: 62.000, mean reward: 1.000 [1.000, 1.000], mean action: 0.516 [0.000, 1.000], mean observation: 0.100 [-0.247, 0.827], loss: 3.081027, mean_absolute_error: 8.630080, mean_q: 16.564144\n"
     ]
    },
    {
     "name": "stdout",
     "output_type": "stream",
     "text": [
      " 3418/5000: episode: 149, duration: 0.686s, episode steps: 41, steps per second: 60, episode reward: 41.000, mean reward: 1.000 [1.000, 1.000], mean action: 0.488 [0.000, 1.000], mean observation: -0.112 [-0.870, 0.590], loss: 3.350235, mean_absolute_error: 8.724845, mean_q: 16.707369\n",
      " 3466/5000: episode: 150, duration: 0.796s, episode steps: 48, steps per second: 60, episode reward: 48.000, mean reward: 1.000 [1.000, 1.000], mean action: 0.500 [0.000, 1.000], mean observation: 0.049 [-0.414, 0.992], loss: 3.363184, mean_absolute_error: 8.742322, mean_q: 16.696054\n",
      " 3517/5000: episode: 151, duration: 0.849s, episode steps: 51, steps per second: 60, episode reward: 51.000, mean reward: 1.000 [1.000, 1.000], mean action: 0.510 [0.000, 1.000], mean observation: 0.089 [-0.274, 0.946], loss: 3.819530, mean_absolute_error: 8.809394, mean_q: 16.735388\n",
      " 3565/5000: episode: 152, duration: 0.804s, episode steps: 48, steps per second: 60, episode reward: 48.000, mean reward: 1.000 [1.000, 1.000], mean action: 0.521 [0.000, 1.000], mean observation: 0.076 [-0.404, 0.797], loss: 2.981689, mean_absolute_error: 8.913714, mean_q: 17.099924\n",
      " 3610/5000: episode: 153, duration: 0.742s, episode steps: 45, steps per second: 61, episode reward: 45.000, mean reward: 1.000 [1.000, 1.000], mean action: 0.511 [0.000, 1.000], mean observation: 0.081 [-0.247, 0.901], loss: 3.823407, mean_absolute_error: 8.991682, mean_q: 17.162752\n",
      " 3653/5000: episode: 154, duration: 0.718s, episode steps: 43, steps per second: 60, episode reward: 43.000, mean reward: 1.000 [1.000, 1.000], mean action: 0.488 [0.000, 1.000], mean observation: -0.099 [-0.793, 0.181], loss: 3.397804, mean_absolute_error: 9.019187, mean_q: 17.287489\n",
      " 3707/5000: episode: 155, duration: 0.931s, episode steps: 54, steps per second: 58, episode reward: 54.000, mean reward: 1.000 [1.000, 1.000], mean action: 0.500 [0.000, 1.000], mean observation: 0.082 [-0.408, 1.246], loss: 2.579082, mean_absolute_error: 9.079820, mean_q: 17.518223\n",
      " 3787/5000: episode: 156, duration: 1.330s, episode steps: 80, steps per second: 60, episode reward: 80.000, mean reward: 1.000 [1.000, 1.000], mean action: 0.512 [0.000, 1.000], mean observation: 0.044 [-0.334, 0.728], loss: 2.495232, mean_absolute_error: 9.211630, mean_q: 17.857002\n",
      " 3833/5000: episode: 157, duration: 0.766s, episode steps: 46, steps per second: 60, episode reward: 46.000, mean reward: 1.000 [1.000, 1.000], mean action: 0.522 [0.000, 1.000], mean observation: 0.100 [-0.480, 0.838], loss: 2.782049, mean_absolute_error: 9.287731, mean_q: 17.970083\n",
      " 3872/5000: episode: 158, duration: 0.648s, episode steps: 39, steps per second: 60, episode reward: 39.000, mean reward: 1.000 [1.000, 1.000], mean action: 0.462 [0.000, 1.000], mean observation: -0.099 [-0.713, 0.222], loss: 3.329749, mean_absolute_error: 9.436478, mean_q: 18.227695\n",
      " 3923/5000: episode: 159, duration: 0.885s, episode steps: 51, steps per second: 58, episode reward: 51.000, mean reward: 1.000 [1.000, 1.000], mean action: 0.510 [0.000, 1.000], mean observation: 0.102 [-0.432, 0.768], loss: 3.217206, mean_absolute_error: 9.426713, mean_q: 18.209501\n",
      " 3987/5000: episode: 160, duration: 1.063s, episode steps: 64, steps per second: 60, episode reward: 64.000, mean reward: 1.000 [1.000, 1.000], mean action: 0.484 [0.000, 1.000], mean observation: -0.092 [-0.765, 0.317], loss: 3.276900, mean_absolute_error: 9.577605, mean_q: 18.528809\n",
      " 4029/5000: episode: 161, duration: 0.704s, episode steps: 42, steps per second: 60, episode reward: 42.000, mean reward: 1.000 [1.000, 1.000], mean action: 0.524 [0.000, 1.000], mean observation: 0.120 [-0.248, 0.759], loss: 3.314211, mean_absolute_error: 9.697303, mean_q: 18.690472\n",
      " 4058/5000: episode: 162, duration: 0.481s, episode steps: 29, steps per second: 60, episode reward: 29.000, mean reward: 1.000 [1.000, 1.000], mean action: 0.517 [0.000, 1.000], mean observation: 0.126 [-0.274, 1.045], loss: 3.607264, mean_absolute_error: 9.782099, mean_q: 18.797747\n",
      " 4090/5000: episode: 163, duration: 0.532s, episode steps: 32, steps per second: 60, episode reward: 32.000, mean reward: 1.000 [1.000, 1.000], mean action: 0.469 [0.000, 1.000], mean observation: -0.096 [-0.927, 0.359], loss: 4.024265, mean_absolute_error: 9.724104, mean_q: 18.694347\n",
      " 4142/5000: episode: 164, duration: 0.865s, episode steps: 52, steps per second: 60, episode reward: 52.000, mean reward: 1.000 [1.000, 1.000], mean action: 0.519 [0.000, 1.000], mean observation: 0.112 [-0.385, 0.992], loss: 3.456048, mean_absolute_error: 9.917053, mean_q: 19.177576\n",
      " 4189/5000: episode: 165, duration: 0.784s, episode steps: 47, steps per second: 60, episode reward: 47.000, mean reward: 1.000 [1.000, 1.000], mean action: 0.468 [0.000, 1.000], mean observation: -0.131 [-0.664, 0.365], loss: 3.430816, mean_absolute_error: 9.926562, mean_q: 19.199751\n",
      " 4268/5000: episode: 166, duration: 1.314s, episode steps: 79, steps per second: 60, episode reward: 79.000, mean reward: 1.000 [1.000, 1.000], mean action: 0.506 [0.000, 1.000], mean observation: 0.072 [-0.273, 0.860], loss: 3.499071, mean_absolute_error: 10.088454, mean_q: 19.539131\n",
      " 4314/5000: episode: 167, duration: 0.802s, episode steps: 46, steps per second: 57, episode reward: 46.000, mean reward: 1.000 [1.000, 1.000], mean action: 0.522 [0.000, 1.000], mean observation: 0.103 [-0.229, 0.807], loss: 3.068588, mean_absolute_error: 10.165714, mean_q: 19.796015\n",
      " 4341/5000: episode: 168, duration: 0.447s, episode steps: 27, steps per second: 60, episode reward: 27.000, mean reward: 1.000 [1.000, 1.000], mean action: 0.444 [0.000, 1.000], mean observation: -0.095 [-1.246, 0.825], loss: 3.816334, mean_absolute_error: 10.249229, mean_q: 19.771311\n",
      " 4420/5000: episode: 169, duration: 1.316s, episode steps: 79, steps per second: 60, episode reward: 79.000, mean reward: 1.000 [1.000, 1.000], mean action: 0.494 [0.000, 1.000], mean observation: -0.101 [-1.089, 0.482], loss: 3.501221, mean_absolute_error: 10.273201, mean_q: 19.937063\n",
      " 4483/5000: episode: 170, duration: 1.050s, episode steps: 63, steps per second: 60, episode reward: 63.000, mean reward: 1.000 [1.000, 1.000], mean action: 0.476 [0.000, 1.000], mean observation: -0.097 [-0.763, 0.267], loss: 3.444556, mean_absolute_error: 10.431238, mean_q: 20.295504\n",
      " 4532/5000: episode: 171, duration: 0.817s, episode steps: 49, steps per second: 60, episode reward: 49.000, mean reward: 1.000 [1.000, 1.000], mean action: 0.469 [0.000, 1.000], mean observation: -0.110 [-0.649, 0.192], loss: 3.889105, mean_absolute_error: 10.489733, mean_q: 20.341816\n",
      " 4595/5000: episode: 172, duration: 1.050s, episode steps: 63, steps per second: 60, episode reward: 63.000, mean reward: 1.000 [1.000, 1.000], mean action: 0.476 [0.000, 1.000], mean observation: -0.066 [-0.715, 0.429], loss: 3.786353, mean_absolute_error: 10.621663, mean_q: 20.656326\n",
      " 4648/5000: episode: 173, duration: 0.882s, episode steps: 53, steps per second: 60, episode reward: 53.000, mean reward: 1.000 [1.000, 1.000], mean action: 0.472 [0.000, 1.000], mean observation: -0.122 [-0.690, 0.451], loss: 4.772271, mean_absolute_error: 10.728894, mean_q: 20.719950\n",
      " 4721/5000: episode: 174, duration: 1.218s, episode steps: 73, steps per second: 60, episode reward: 73.000, mean reward: 1.000 [1.000, 1.000], mean action: 0.521 [0.000, 1.000], mean observation: 0.087 [-0.304, 0.753], loss: 3.262162, mean_absolute_error: 10.736103, mean_q: 20.889856\n",
      " 4784/5000: episode: 175, duration: 1.046s, episode steps: 63, steps per second: 60, episode reward: 63.000, mean reward: 1.000 [1.000, 1.000], mean action: 0.524 [0.000, 1.000], mean observation: 0.122 [-0.437, 0.814], loss: 3.773622, mean_absolute_error: 11.000502, mean_q: 21.443398\n",
      " 4824/5000: episode: 176, duration: 0.666s, episode steps: 40, steps per second: 60, episode reward: 40.000, mean reward: 1.000 [1.000, 1.000], mean action: 0.475 [0.000, 1.000], mean observation: -0.149 [-0.745, 0.178], loss: 3.733155, mean_absolute_error: 10.997881, mean_q: 21.375637\n",
      " 4875/5000: episode: 177, duration: 0.849s, episode steps: 51, steps per second: 60, episode reward: 51.000, mean reward: 1.000 [1.000, 1.000], mean action: 0.471 [0.000, 1.000], mean observation: -0.114 [-0.701, 0.360], loss: 4.450082, mean_absolute_error: 11.047204, mean_q: 21.446531\n"
     ]
    },
    {
     "name": "stdout",
     "output_type": "stream",
     "text": [
      " 4937/5000: episode: 178, duration: 1.035s, episode steps: 62, steps per second: 60, episode reward: 62.000, mean reward: 1.000 [1.000, 1.000], mean action: 0.532 [0.000, 1.000], mean observation: 0.105 [-0.267, 0.707], loss: 3.697470, mean_absolute_error: 11.146082, mean_q: 21.668655\n",
      " 4997/5000: episode: 179, duration: 1.013s, episode steps: 60, steps per second: 59, episode reward: 60.000, mean reward: 1.000 [1.000, 1.000], mean action: 0.500 [0.000, 1.000], mean observation: 0.130 [-0.268, 1.413], loss: 3.757988, mean_absolute_error: 11.263992, mean_q: 21.920809\n",
      "done, took 90.059 seconds\n"
     ]
    },
    {
     "data": {
      "text/plain": [
       "<keras.callbacks.History at 0x205158d89b0>"
      ]
     },
     "execution_count": 4,
     "metadata": {},
     "output_type": "execute_result"
    }
   ],
   "source": [
    "policy = EpsGreedyQPolicy()\n",
    "memory = SequentialMemory(limit=50000, window_length=1)\n",
    "dqn = DQNAgent(model=model, nb_actions=nb_actions, memory=memory, nb_steps_warmup=10,\n",
    "target_model_update=1e-2, policy=policy)\n",
    "dqn.compile(Adam(lr=1e-3), metrics=['mae'])\n",
    "\n",
    "# Okay, now it's time to learn something! We visualize the training here for show, but this slows down training quite a lot. \n",
    "dqn.fit(env, nb_steps=5000, verbose=2, visualize=True)"
   ]
  },
  {
   "cell_type": "code",
   "execution_count": 5,
   "metadata": {
    "scrolled": true
   },
   "outputs": [
    {
     "name": "stdout",
     "output_type": "stream",
     "text": [
      "Testing for 5 episodes ...\n",
      "Episode 1: reward: 54.000, steps: 54\n",
      "Episode 2: reward: 43.000, steps: 43\n",
      "Episode 3: reward: 39.000, steps: 39\n",
      "Episode 4: reward: 37.000, steps: 37\n",
      "Episode 5: reward: 66.000, steps: 66\n"
     ]
    },
    {
     "data": {
      "text/plain": [
       "<keras.callbacks.History at 0x2051577bc88>"
      ]
     },
     "execution_count": 5,
     "metadata": {},
     "output_type": "execute_result"
    }
   ],
   "source": [
    "dqn.test(env, nb_episodes=5, visualize=True)"
   ]
  }
 ],
 "metadata": {
  "kernelspec": {
   "display_name": "Python 3",
   "language": "python",
   "name": "python3"
  },
  "language_info": {
   "codemirror_mode": {
    "name": "ipython",
    "version": 3
   },
   "file_extension": ".py",
   "mimetype": "text/x-python",
   "name": "python",
   "nbconvert_exporter": "python",
   "pygments_lexer": "ipython3",
   "version": "3.5.4"
  }
 },
 "nbformat": 4,
 "nbformat_minor": 2
}
