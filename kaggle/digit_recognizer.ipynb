{
  "cells": [
    {
      "metadata": {
        "_cell_guid": "979a8e3c-253b-4b7c-8097-cf52b8f0b887",
        "_uuid": "cab2615d5a9c62b0a46bf6dcf563b31daf828fe7",
        "trusted": true
      },
      "cell_type": "code",
      "source": "# This Python 3 environment comes with many helpful analytics libraries installed\n# It is defined by the kaggle/python docker image: https://github.com/kaggle/docker-python\n# For example, here's several helpful packages to load in \n\nimport numpy as np # linear algebra\nimport pandas as pd # data processing, CSV file I/O (e.g. pd.read_csv)\n\n# Input data files are available in the \"../input/\" directory.\n# For example, running this (by clicking run or pressing Shift+Enter) will list the files in the input directory\n\nfrom subprocess import check_output\nprint(check_output([\"ls\", \"../input\"]).decode(\"utf8\"))\n\n# Any results you write to the current directory are saved as output.",
      "execution_count": 1,
      "outputs": [
        {
          "output_type": "stream",
          "text": "test.csv\ntrain.csv\n\n",
          "name": "stdout"
        }
      ]
    },
    {
      "metadata": {
        "trusted": true,
        "_uuid": "076c82ac99617716ba3c97134385cce0975905f3"
      },
      "cell_type": "code",
      "source": "ls",
      "execution_count": 2,
      "outputs": [
        {
          "output_type": "stream",
          "text": "__notebook_source__.ipynb\r\n",
          "name": "stdout"
        }
      ]
    },
    {
      "metadata": {
        "trusted": true,
        "_uuid": "cec57b2a0b5902ca431876ed08149acbb2ddb1bb"
      },
      "cell_type": "code",
      "source": "cd ../input",
      "execution_count": 3,
      "outputs": [
        {
          "output_type": "stream",
          "text": "/kaggle/input\n",
          "name": "stdout"
        }
      ]
    },
    {
      "metadata": {
        "trusted": true,
        "_uuid": "a7ca995ff122b6e2b0ba93bbf6c00fa23377e940"
      },
      "cell_type": "code",
      "source": "ls",
      "execution_count": 4,
      "outputs": [
        {
          "output_type": "stream",
          "text": "test.csv  train.csv\r\n",
          "name": "stdout"
        }
      ]
    },
    {
      "metadata": {
        "trusted": true,
        "_uuid": "d20353251d45a3356461c25433fd07ba53418e04"
      },
      "cell_type": "code",
      "source": "import keras",
      "execution_count": 5,
      "outputs": [
        {
          "output_type": "stream",
          "text": "Using TensorFlow backend.\n/opt/conda/lib/python3.6/importlib/_bootstrap.py:219: RuntimeWarning: compiletime version 3.5 of module 'tensorflow.python.framework.fast_tensor_util' does not match runtime version 3.6\n  return f(*args, **kwds)\n",
          "name": "stderr"
        }
      ]
    },
    {
      "metadata": {
        "collapsed": true,
        "trusted": true,
        "_uuid": "74c3177bd25e7484a41760cec7c9a4eebf012ba3"
      },
      "cell_type": "code",
      "source": "X_train=pd.read_csv(\"train.csv\")",
      "execution_count": 6,
      "outputs": []
    },
    {
      "metadata": {
        "scrolled": true,
        "trusted": true,
        "_uuid": "633ff4cf1d5d2b4da286abcff486b9c25abb6673"
      },
      "cell_type": "code",
      "source": "X_train",
      "execution_count": null,
      "outputs": []
    },
    {
      "metadata": {
        "collapsed": true,
        "trusted": true,
        "_uuid": "6973735eefb541a1780d6541d74798cb341c26cd"
      },
      "cell_type": "code",
      "source": "from keras.models import Sequential\nfrom keras.layers import Dense\nfrom keras.layers import Dropout\nfrom keras.layers import Flatten\nfrom keras.layers.convolutional import Conv2D\nfrom keras.layers.convolutional import MaxPooling2D\nfrom keras.utils import np_utils",
      "execution_count": 7,
      "outputs": []
    },
    {
      "metadata": {
        "scrolled": true,
        "trusted": true,
        "_uuid": "a319107daac7ab98d2e5e59616ecf16a0af1b971"
      },
      "cell_type": "code",
      "source": "y_train=X_train[\"label\"]\nX_train=X_train.drop([\"label\"],axis=1)\nX_train=X_train.as_matrix()",
      "execution_count": 8,
      "outputs": []
    },
    {
      "metadata": {
        "trusted": true,
        "_uuid": "7aad66ec18026676fb3c38303f3d0056f6ef625a"
      },
      "cell_type": "code",
      "source": "X_train = X_train.reshape( X_train.shape[0],28, 28,1).astype('float32')",
      "execution_count": 9,
      "outputs": []
    },
    {
      "metadata": {
        "trusted": true,
        "_uuid": "9826b530e4dbc30710997bc3c66d5b1709107897"
      },
      "cell_type": "code",
      "source": "X_test=(pd.read_csv(\"test.csv\")).as_matrix()\nX_test = X_test.reshape(X_test.shape[0],28, 28,1).astype('float32')",
      "execution_count": 10,
      "outputs": []
    },
    {
      "metadata": {
        "trusted": true,
        "scrolled": true,
        "_uuid": "342dee7a2c4c52b6ce3bc2b51cff1621ef097c06"
      },
      "cell_type": "code",
      "source": "# num_classes = y_train.shape[1]\ndef baseline_model():\n\t# create model\n\tmodel = Sequential()\n\tmodel.add(Conv2D(32, (5, 5), input_shape=( 28, 28,1), activation='relu'))\n\tmodel.add(MaxPooling2D(pool_size=(2, 2)))\n\tmodel.add(Dropout(0.2))\n\tmodel.add(Flatten())\n\tmodel.add(Dense(128, activation='relu'))\n\tmodel.add(Dense(10, activation='softmax'))\n\t# Compile model\n\tmodel.compile(loss='categorical_crossentropy', optimizer='adam', metrics=['accuracy'])\n\treturn model",
      "execution_count": 11,
      "outputs": []
    },
    {
      "metadata": {
        "trusted": true,
        "scrolled": true,
        "_uuid": "402dc919ba0be57287ccb1acc018a909afa423a7"
      },
      "cell_type": "code",
      "source": "# build the model\nX_train = X_train / 255\nX_test = X_test / 255\ny_train = np_utils.to_categorical(y_train)\nmodel = baseline_model()\n# Fit the model\nmodel.fit(X_train, y_train,  epochs=10, batch_size=200, verbose=2)\n# Final evaluation of the model\n# scores = model.evaluate(X_test, y_test, verbose=0)\nprint(\"CNN Error: %.2f%%\" % (100-scores[1]*100))",
      "execution_count": 12,
      "outputs": [
        {
          "output_type": "stream",
          "text": "Epoch 1/10\n - 22s - loss: 0.2884 - acc: 0.9168\nEpoch 2/10\n - 22s - loss: 0.0867 - acc: 0.9740\nEpoch 3/10\n - 22s - loss: 0.0598 - acc: 0.9818\nEpoch 4/10\n - 22s - loss: 0.0481 - acc: 0.9859\nEpoch 5/10\n - 22s - loss: 0.0384 - acc: 0.9883\nEpoch 6/10\n - 22s - loss: 0.0319 - acc: 0.9899\nEpoch 7/10\n - 23s - loss: 0.0261 - acc: 0.9923\nEpoch 8/10\n - 22s - loss: 0.0219 - acc: 0.9929\nEpoch 9/10\n - 22s - loss: 0.0184 - acc: 0.9944\nEpoch 10/10\n - 22s - loss: 0.0156 - acc: 0.9948\n",
          "name": "stdout"
        },
        {
          "output_type": "error",
          "ename": "NameError",
          "evalue": "name 'y_test' is not defined",
          "traceback": [
            "\u001b[0;31m---------------------------------------------------------------------------\u001b[0m",
            "\u001b[0;31mNameError\u001b[0m                                 Traceback (most recent call last)",
            "\u001b[0;32m<ipython-input-12-2297d0e66855>\u001b[0m in \u001b[0;36m<module>\u001b[0;34m()\u001b[0m\n\u001b[1;32m      7\u001b[0m \u001b[0mmodel\u001b[0m\u001b[0;34m.\u001b[0m\u001b[0mfit\u001b[0m\u001b[0;34m(\u001b[0m\u001b[0mX_train\u001b[0m\u001b[0;34m,\u001b[0m \u001b[0my_train\u001b[0m\u001b[0;34m,\u001b[0m  \u001b[0mepochs\u001b[0m\u001b[0;34m=\u001b[0m\u001b[0;36m10\u001b[0m\u001b[0;34m,\u001b[0m \u001b[0mbatch_size\u001b[0m\u001b[0;34m=\u001b[0m\u001b[0;36m200\u001b[0m\u001b[0;34m,\u001b[0m \u001b[0mverbose\u001b[0m\u001b[0;34m=\u001b[0m\u001b[0;36m2\u001b[0m\u001b[0;34m)\u001b[0m\u001b[0;34m\u001b[0m\u001b[0m\n\u001b[1;32m      8\u001b[0m \u001b[0;31m# Final evaluation of the model\u001b[0m\u001b[0;34m\u001b[0m\u001b[0;34m\u001b[0m\u001b[0m\n\u001b[0;32m----> 9\u001b[0;31m \u001b[0mscores\u001b[0m \u001b[0;34m=\u001b[0m \u001b[0mmodel\u001b[0m\u001b[0;34m.\u001b[0m\u001b[0mevaluate\u001b[0m\u001b[0;34m(\u001b[0m\u001b[0mX_test\u001b[0m\u001b[0;34m,\u001b[0m \u001b[0my_test\u001b[0m\u001b[0;34m,\u001b[0m \u001b[0mverbose\u001b[0m\u001b[0;34m=\u001b[0m\u001b[0;36m0\u001b[0m\u001b[0;34m)\u001b[0m\u001b[0;34m\u001b[0m\u001b[0m\n\u001b[0m\u001b[1;32m     10\u001b[0m \u001b[0mprint\u001b[0m\u001b[0;34m(\u001b[0m\u001b[0;34m\"CNN Error: %.2f%%\"\u001b[0m \u001b[0;34m%\u001b[0m \u001b[0;34m(\u001b[0m\u001b[0;36m100\u001b[0m\u001b[0;34m-\u001b[0m\u001b[0mscores\u001b[0m\u001b[0;34m[\u001b[0m\u001b[0;36m1\u001b[0m\u001b[0;34m]\u001b[0m\u001b[0;34m*\u001b[0m\u001b[0;36m100\u001b[0m\u001b[0;34m)\u001b[0m\u001b[0;34m)\u001b[0m\u001b[0;34m\u001b[0m\u001b[0m\n",
            "\u001b[0;31mNameError\u001b[0m: name 'y_test' is not defined"
          ]
        }
      ]
    },
    {
      "metadata": {
        "trusted": true,
        "collapsed": true,
        "_uuid": "f5c3ec25b6771e3f16c5ce30589e91e4b738d8b3"
      },
      "cell_type": "code",
      "source": "y_test=model.predict(X_test)",
      "execution_count": 13,
      "outputs": []
    },
    {
      "metadata": {
        "trusted": true,
        "_uuid": "7c2928e147f2290bb09da134419cc3bff0dd4fa4"
      },
      "cell_type": "code",
      "source": "y_test.shape",
      "execution_count": 16,
      "outputs": [
        {
          "output_type": "execute_result",
          "execution_count": 16,
          "data": {
            "text/plain": "(28000, 10)"
          },
          "metadata": {}
        }
      ]
    },
    {
      "metadata": {
        "trusted": true,
        "_uuid": "a136029f1ce763a524e043cc4838bb352d37f843"
      },
      "cell_type": "code",
      "source": "X_test.shape",
      "execution_count": 17,
      "outputs": [
        {
          "output_type": "execute_result",
          "execution_count": 17,
          "data": {
            "text/plain": "(28000, 28, 28, 1)"
          },
          "metadata": {}
        }
      ]
    },
    {
      "metadata": {
        "trusted": true,
        "_uuid": "7dec61ebc47fc43e7620b10e91fc9b211e4a5429"
      },
      "cell_type": "code",
      "source": "y_test",
      "execution_count": 18,
      "outputs": [
        {
          "output_type": "execute_result",
          "execution_count": 18,
          "data": {
            "text/plain": "array([[  6.36842024e-10,   2.11395178e-13,   1.00000000e+00, ...,\n          1.21416224e-10,   1.48981627e-08,   1.28924779e-11],\n       [  9.99999166e-01,   1.37980420e-13,   4.18994901e-08, ...,\n          3.07949971e-10,   1.42157430e-09,   8.27514768e-09],\n       [  6.92483360e-09,   2.47905056e-08,   2.08364672e-05, ...,\n          3.74504725e-06,   2.58663713e-05,   9.99892116e-01],\n       ..., \n       [  5.07117169e-14,   7.44120613e-14,   1.09408746e-10, ...,\n          2.00868315e-11,   1.55567204e-08,   3.60724890e-08],\n       [  6.46893761e-10,   8.24509124e-12,   7.00511038e-10, ...,\n          2.70498845e-07,   4.84394391e-08,   9.99871492e-01],\n       [  7.49448628e-11,   5.76983733e-14,   9.99999762e-01, ...,\n          3.48567702e-12,   2.65959102e-07,   4.88536989e-10]], dtype=float32)"
          },
          "metadata": {}
        }
      ]
    },
    {
      "metadata": {
        "trusted": true,
        "collapsed": true,
        "_uuid": "a0ec62005db5a12683d6c31fd572fb425a9ee348"
      },
      "cell_type": "code",
      "source": "",
      "execution_count": null,
      "outputs": []
    }
  ],
  "metadata": {
    "kernelspec": {
      "display_name": "Python 3",
      "language": "python",
      "name": "python3"
    },
    "language_info": {
      "name": "python",
      "version": "3.6.3",
      "mimetype": "text/x-python",
      "codemirror_mode": {
        "name": "ipython",
        "version": 3
      },
      "pygments_lexer": "ipython3",
      "nbconvert_exporter": "python",
      "file_extension": ".py"
    }
  },
  "nbformat": 4,
  "nbformat_minor": 1
}