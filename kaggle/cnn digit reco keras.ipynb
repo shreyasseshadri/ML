{
 "cells": [
  {
   "cell_type": "code",
   "execution_count": 8,
   "metadata": {
    "_cell_guid": "a01df2a6-cf71-4a0b-b25b-5485d97498be",
    "_uuid": "159b14bbfdafd4a8bf81ff67dcc06c4fbb5faec0"
   },
   "outputs": [],
   "source": [
    "",
    "",
    "",
    "\n",
    "import numpy as np # linear algebra\n",
    "import pandas as pd # data processing, CSV file I/O (e.g. pd.read_csv)\n",
    "\n",
    "",
    "",
    ""
   ]
  },
  {
   "cell_type": "code",
   "execution_count": 9,
   "metadata": {
    "_cell_guid": "254955a0-3e92-4f53-a0e1-299d555049de",
    "_uuid": "a7e0d26ba302d9f50a02dae40b73af197c5f5289"
   },
   "outputs": [],
   "source": [
    "data_test_orig=pd.read_csv(\"test(2).csv\")"
   ]
  },
  {
   "cell_type": "code",
   "execution_count": 10,
   "metadata": {
    "_cell_guid": "a08a16fe-d1f1-4e82-be67-63cc5e7e018d",
    "_uuid": "ad0779ec04b63b4cbc7efddb50258670cd278727"
   },
   "outputs": [],
   "source": [
    "data_train_orig=pd.read_csv(\"train(2).csv\")"
   ]
  },
  {
   "cell_type": "code",
   "execution_count": 11,
   "metadata": {
    "_cell_guid": "b416de60-d766-4989-97fc-27eb47feaf52",
    "_uuid": "89714422b5b7802c64a6ffa24d882b72a0dcc3c8",
    "collapsed": true
   },
   "outputs": [],
   "source": [
    "Y_train=data_train_orig[\"label\"]"
   ]
  },
  {
   "cell_type": "code",
   "execution_count": 12,
   "metadata": {
    "_cell_guid": "6fd9f1ba-40f9-4b2a-9438-60db75e7ef2d",
    "_uuid": "27da2b9918d152391f113b8dd3373c1b0cd8f1d2",
    "collapsed": true
   },
   "outputs": [],
   "source": [
    "data_train=data_train_orig.drop(['label'],axis=1)"
   ]
  },
  {
   "cell_type": "code",
   "execution_count": 13,
   "metadata": {
    "_cell_guid": "9ee6f160-cb92-4b75-b0ca-c7b65a59951b",
    "_uuid": "ec16b70041866dd3d82b561acfc0078decc4b3af",
    "collapsed": true
   },
   "outputs": [],
   "source": [
    "X_train=data_train.as_matrix()"
   ]
  },
  {
   "cell_type": "code",
   "execution_count": 14,
   "metadata": {
    "_cell_guid": "a3eaa9e2-a6bb-4248-9f19-daddda2dbb5f",
    "_uuid": "5ce6f3c5d3a304778da0152e2ea30ff6d59a8fd7"
   },
   "outputs": [
    {
     "data": {
      "text/plain": [
       "(42000, 784)"
      ]
     },
     "execution_count": 14,
     "metadata": {},
     "output_type": "execute_result"
    }
   ],
   "source": [
    "X_train.shape"
   ]
  },
  {
   "cell_type": "code",
   "execution_count": 15,
   "metadata": {
    "_cell_guid": "0959dfb3-5471-4027-8f5d-39c1a1e04946",
    "_uuid": "bcb1e705e0f7611be39e14ce3ea0fc8140ba341f",
    "collapsed": true
   },
   "outputs": [],
   "source": [
    "X_train=X_train.reshape(X_train.shape[0],28,28,1)"
   ]
  },
  {
   "cell_type": "code",
   "execution_count": 16,
   "metadata": {
    "_cell_guid": "ad20ce48-adaa-4077-9f26-88a71e9a4092",
    "_uuid": "4087ba1c58af34f397e8a63cebb4528cc0e266dd",
    "collapsed": true
   },
   "outputs": [],
   "source": [
    "X_test=data_test_orig.as_matrix()"
   ]
  },
  {
   "cell_type": "code",
   "execution_count": 17,
   "metadata": {
    "_cell_guid": "a5b21dda-c86a-4c9f-bcf5-643e4323b097",
    "_uuid": "4117f62e9151fca801fd93417cb4fcfbfc4d2ffa",
    "collapsed": true
   },
   "outputs": [],
   "source": [
    "X_test=X_test.reshape(X_test.shape[0],28,28,1)"
   ]
  },
  {
   "cell_type": "code",
   "execution_count": 18,
   "metadata": {
    "_cell_guid": "ae3d08cf-60cd-4169-bf2f-4325e398d30e",
    "_uuid": "192a770ea439f7ef2707a70140a8f312a869eafc"
   },
   "outputs": [
    {
     "name": "stderr",
     "output_type": "stream",
     "text": [
      "Using TensorFlow backend.\n"
     ]
    }
   ],
   "source": [
    "from keras.models import Model\n",
    "from keras.layers import Input, Dense, Activation, ZeroPadding2D, BatchNormalization, Flatten, Conv2D\n",
    "from keras.layers import AveragePooling2D, MaxPooling2D, Dropout, GlobalMaxPooling2D, GlobalAveragePooling2D\n",
    "from keras.utils import np_utils\n"
   ]
  },
  {
   "cell_type": "code",
   "execution_count": 19,
   "metadata": {
    "_cell_guid": "69900bcf-01c2-4b21-bd81-f9a2d3eb501c",
    "_uuid": "d1b266cff2a71514ef8d2aa1a40b3cba19dd96e6",
    "collapsed": true
   },
   "outputs": [],
   "source": [
    "def model(input_shape):\n",
    "    X_input=Input(input_shape)\n",
    "    X=Conv2D(32, (5, 5), input_shape=( 28, 28,1), activation='relu')(X_input)\n",
    "    X=MaxPooling2D(pool_size=(2, 2))(X)\n",
    "    X=Dropout(0.2)(X)\n",
    "    X = Flatten()(X)\n",
    "    X=Dense(128, activation='relu')(X)\n",
    "    X=Dense(10,activation='softmax')(X)\n",
    "    model = Model(inputs = X_input, outputs = X, name='digitModel')\n",
    "    return model"
   ]
  },
  {
   "cell_type": "code",
   "execution_count": 20,
   "metadata": {
    "_cell_guid": "30f0f846-3dbb-4928-8f54-5f556a1338ca",
    "_uuid": "9076390343d2e6b976971814bfc76ea8829e876e",
    "collapsed": true
   },
   "outputs": [],
   "source": [
    "X_train = X_train / 255\n",
    "X_test = X_test / 255\n",
    "Y_train = np_utils.to_categorical(Y_train)"
   ]
  },
  {
   "cell_type": "code",
   "execution_count": 21,
   "metadata": {
    "_cell_guid": "f2649d1f-bd88-458f-8843-f3d5729803b5",
    "_uuid": "32fa002083f18e93e0e53dc60ef163a2bca2807e",
    "collapsed": true
   },
   "outputs": [],
   "source": [
    "digitmodel=model(X_train.shape[1:])"
   ]
  },
  {
   "cell_type": "code",
   "execution_count": 22,
   "metadata": {
    "_cell_guid": "c4aa89fc-694c-4f7f-a88d-c47ae0399f0f",
    "_uuid": "ea553db5fb1c8018f1752763edbc2e089512a9aa",
    "collapsed": true
   },
   "outputs": [],
   "source": [
    "digitmodel.compile(loss='categorical_crossentropy', optimizer='adam', metrics=['accuracy'])"
   ]
  },
  {
   "cell_type": "code",
   "execution_count": 23,
   "metadata": {
    "_cell_guid": "a7399a15-745e-406e-b6f1-e86ea13ab154",
    "_uuid": "bd066af2be4f06eccf7b1c42aa179fbf6446100b",
    "scrolled": true
   },
   "outputs": [
    {
     "name": "stdout",
     "output_type": "stream",
     "text": [
      "Epoch 1/20\n",
      "42000/42000 [==============================] - 64s - loss: 0.2025 - acc: 0.9406    \n",
      "Epoch 2/20\n",
      "42000/42000 [==============================] - 61s - loss: 0.0659 - acc: 0.9794    \n",
      "Epoch 3/20\n",
      "42000/42000 [==============================] - 61s - loss: 0.0458 - acc: 0.9861    \n",
      "Epoch 4/20\n",
      "42000/42000 [==============================] - 62s - loss: 0.0336 - acc: 0.9891    \n",
      "Epoch 5/20\n",
      "42000/42000 [==============================] - 65s - loss: 0.0261 - acc: 0.9921    \n",
      "Epoch 6/20\n",
      "42000/42000 [==============================] - 66s - loss: 0.0212 - acc: 0.9933    \n",
      "Epoch 7/20\n",
      "42000/42000 [==============================] - 65s - loss: 0.0172 - acc: 0.9941    \n",
      "Epoch 8/20\n",
      "42000/42000 [==============================] - 65s - loss: 0.0139 - acc: 0.9955    - ETA: 9s - loss - \n",
      "Epoch 9/20\n",
      "42000/42000 [==============================] - 66s - loss: 0.0102 - acc: 0.9964    \n",
      "Epoch 10/20\n",
      "42000/42000 [==============================] - 66s - loss: 0.0110 - acc: 0.9961    \n",
      "Epoch 11/20\n",
      "42000/42000 [==============================] - 70s - loss: 0.0092 - acc: 0.9967    \n",
      "Epoch 12/20\n",
      "42000/42000 [==============================] - 68s - loss: 0.0066 - acc: 0.9975    \n",
      "Epoch 13/20\n",
      "42000/42000 [==============================] - 67s - loss: 0.0067 - acc: 0.9976    \n",
      "Epoch 14/20\n",
      "42000/42000 [==============================] - 66s - loss: 0.0073 - acc: 0.9975    \n",
      "Epoch 15/20\n",
      "42000/42000 [==============================] - 63s - loss: 0.0051 - acc: 0.9984    \n",
      "Epoch 16/20\n",
      "42000/42000 [==============================] - 63s - loss: 0.0044 - acc: 0.9985    \n",
      "Epoch 17/20\n",
      "42000/42000 [==============================] - 65s - loss: 0.0052 - acc: 0.9982    \n",
      "Epoch 18/20\n",
      "42000/42000 [==============================] - 65s - loss: 0.0046 - acc: 0.9984    \n",
      "Epoch 19/20\n",
      "42000/42000 [==============================] - 67s - loss: 0.0032 - acc: 0.9989    \n",
      "Epoch 20/20\n",
      "42000/42000 [==============================] - 66s - loss: 0.0059 - acc: 0.9980    \n"
     ]
    },
    {
     "data": {
      "text/plain": [
       "<keras.callbacks.History at 0x178df140ac8>"
      ]
     },
     "execution_count": 23,
     "metadata": {},
     "output_type": "execute_result"
    }
   ],
   "source": [
    "digitmodel.fit(x = X_train, y = Y_train, epochs = 20, batch_size = 64)"
   ]
  },
  {
   "cell_type": "code",
   "execution_count": 24,
   "metadata": {
    "_cell_guid": "0d4384f4-65ca-4f55-afb1-b711c03acdc6",
    "_uuid": "3440f9f74856c75463a43d0fd6184ace25b768fa",
    "collapsed": true
   },
   "outputs": [],
   "source": [
    "Y_pred=digitmodel.predict(X_test)"
   ]
  },
  {
   "cell_type": "code",
   "execution_count": 25,
   "metadata": {
    "_cell_guid": "6c843ef3-5fd1-4751-a27b-98b246eb5463",
    "_uuid": "85ea3b3d904ec7aeb5e10eb8996d40cb29cb6554"
   },
   "outputs": [
    {
     "data": {
      "text/plain": [
       "(28000, 10)"
      ]
     },
     "execution_count": 25,
     "metadata": {},
     "output_type": "execute_result"
    }
   ],
   "source": [
    "Y_pred.shape"
   ]
  },
  {
   "cell_type": "code",
   "execution_count": 26,
   "metadata": {
    "_cell_guid": "9148d19e-2e95-44f5-8859-cb22ba0c553b",
    "_uuid": "0fca7cf061fb4a1f20ab51f62800aea7f781e829",
    "collapsed": true
   },
   "outputs": [],
   "source": [
    "from keras.backend import argmax\n",
    "Y_pred_1=argmax(Y_pred,axis=1)"
   ]
  },
  {
   "cell_type": "code",
   "execution_count": 27,
   "metadata": {
    "_cell_guid": "fc2fcfd5-d62c-415d-86e3-6559ab6c5688",
    "_uuid": "5f8d4dd673d00b9cb399dc18c3f37921bc99756c",
    "collapsed": true
   },
   "outputs": [],
   "source": [
    "from keras.backend import eval\n",
    "y_pred_1=eval(Y_pred_1)"
   ]
  },
  {
   "cell_type": "code",
   "execution_count": 28,
   "metadata": {
    "_cell_guid": "167fedea-660b-4ebf-b61c-14db2c893854",
    "_uuid": "7e2dbd675a82dad967cbbcc90c3c15372ffcd5fe"
   },
   "outputs": [
    {
     "data": {
      "text/plain": [
       "array([2, 0, 9, ..., 3, 9, 2], dtype=int64)"
      ]
     },
     "execution_count": 28,
     "metadata": {},
     "output_type": "execute_result"
    }
   ],
   "source": [
    "y_pred_1"
   ]
  },
  {
   "cell_type": "code",
   "execution_count": 29,
   "metadata": {
    "_cell_guid": "4a5bbb82-05e7-4c16-94ae-b1df39a67812",
    "_uuid": "8fb2e29315e946b0b4f4200d6b760701fece370f",
    "collapsed": true
   },
   "outputs": [],
   "source": [
    "Y_pred=y_pred_1"
   ]
  },
  {
   "cell_type": "code",
   "execution_count": 30,
   "metadata": {
    "_cell_guid": "02bf705d-e3d6-495a-9a63-ea66105728e8",
    "_uuid": "9faee1086d26783852247d0dcbea5aea76a67a7c"
   },
   "outputs": [
    {
     "data": {
      "text/plain": [
       "array([2, 0, 9, ..., 3, 9, 2], dtype=int64)"
      ]
     },
     "execution_count": 30,
     "metadata": {},
     "output_type": "execute_result"
    }
   ],
   "source": [
    "Y_pred"
   ]
  },
  {
   "cell_type": "code",
   "execution_count": 31,
   "metadata": {
    "_cell_guid": "3285318c-8156-47e7-8658-060cbc465605",
    "_uuid": "c6d18814d953cc96c70ec2e7342483f6ba03f697"
   },
   "outputs": [
    {
     "data": {
      "text/plain": [
       "(28000,)"
      ]
     },
     "execution_count": 31,
     "metadata": {},
     "output_type": "execute_result"
    }
   ],
   "source": [
    "Y_pred.shape"
   ]
  },
  {
   "cell_type": "code",
   "execution_count": 36,
   "metadata": {
    "_cell_guid": "8acd6c95-b5a8-434d-a6e3-31ac57b31beb",
    "_uuid": "20d97b350ef5ff1296492eb5f911ed044561f9e1",
    "collapsed": true
   },
   "outputs": [],
   "source": [
    "l=[i for i in range(1,Y_pred.shape[0]+1)]\n",
    "my_submission = pd.DataFrame({'ImageId':l , 'Label':Y_pred})"
   ]
  },
  {
   "cell_type": "code",
   "execution_count": 37,
   "metadata": {
    "_cell_guid": "f3fdb2f8-cd3e-4d90-936d-cd626863da49",
    "_uuid": "4074f439180c7276b57caa0babbd4fe3e9bfa35f",
    "scrolled": true
   },
   "outputs": [
    {
     "data": {
      "text/html": [
       "<div>\n",
       "<style scoped>\n",
       "    .dataframe tbody tr th:only-of-type {\n",
       "        vertical-align: middle;\n",
       "    }\n",
       "\n",
       "    .dataframe tbody tr th {\n",
       "        vertical-align: top;\n",
       "    }\n",
       "\n",
       "    .dataframe thead th {\n",
       "        text-align: right;\n",
       "    }\n",
       "</style>\n",
       "<table border=\"1\" class=\"dataframe\">\n",
       "  <thead>\n",
       "    <tr style=\"text-align: right;\">\n",
       "      <th></th>\n",
       "      <th>ImageId</th>\n",
       "      <th>Label</th>\n",
       "    </tr>\n",
       "  </thead>\n",
       "  <tbody>\n",
       "    <tr>\n",
       "      <th>0</th>\n",
       "      <td>1</td>\n",
       "      <td>2</td>\n",
       "    </tr>\n",
       "    <tr>\n",
       "      <th>1</th>\n",
       "      <td>2</td>\n",
       "      <td>0</td>\n",
       "    </tr>\n",
       "    <tr>\n",
       "      <th>2</th>\n",
       "      <td>3</td>\n",
       "      <td>9</td>\n",
       "    </tr>\n",
       "    <tr>\n",
       "      <th>3</th>\n",
       "      <td>4</td>\n",
       "      <td>0</td>\n",
       "    </tr>\n",
       "    <tr>\n",
       "      <th>4</th>\n",
       "      <td>5</td>\n",
       "      <td>3</td>\n",
       "    </tr>\n",
       "    <tr>\n",
       "      <th>5</th>\n",
       "      <td>6</td>\n",
       "      <td>7</td>\n",
       "    </tr>\n",
       "    <tr>\n",
       "      <th>6</th>\n",
       "      <td>7</td>\n",
       "      <td>0</td>\n",
       "    </tr>\n",
       "    <tr>\n",
       "      <th>7</th>\n",
       "      <td>8</td>\n",
       "      <td>3</td>\n",
       "    </tr>\n",
       "    <tr>\n",
       "      <th>8</th>\n",
       "      <td>9</td>\n",
       "      <td>0</td>\n",
       "    </tr>\n",
       "    <tr>\n",
       "      <th>9</th>\n",
       "      <td>10</td>\n",
       "      <td>3</td>\n",
       "    </tr>\n",
       "    <tr>\n",
       "      <th>10</th>\n",
       "      <td>11</td>\n",
       "      <td>5</td>\n",
       "    </tr>\n",
       "    <tr>\n",
       "      <th>11</th>\n",
       "      <td>12</td>\n",
       "      <td>7</td>\n",
       "    </tr>\n",
       "    <tr>\n",
       "      <th>12</th>\n",
       "      <td>13</td>\n",
       "      <td>4</td>\n",
       "    </tr>\n",
       "    <tr>\n",
       "      <th>13</th>\n",
       "      <td>14</td>\n",
       "      <td>0</td>\n",
       "    </tr>\n",
       "    <tr>\n",
       "      <th>14</th>\n",
       "      <td>15</td>\n",
       "      <td>4</td>\n",
       "    </tr>\n",
       "    <tr>\n",
       "      <th>15</th>\n",
       "      <td>16</td>\n",
       "      <td>3</td>\n",
       "    </tr>\n",
       "    <tr>\n",
       "      <th>16</th>\n",
       "      <td>17</td>\n",
       "      <td>3</td>\n",
       "    </tr>\n",
       "    <tr>\n",
       "      <th>17</th>\n",
       "      <td>18</td>\n",
       "      <td>1</td>\n",
       "    </tr>\n",
       "    <tr>\n",
       "      <th>18</th>\n",
       "      <td>19</td>\n",
       "      <td>9</td>\n",
       "    </tr>\n",
       "    <tr>\n",
       "      <th>19</th>\n",
       "      <td>20</td>\n",
       "      <td>0</td>\n",
       "    </tr>\n",
       "    <tr>\n",
       "      <th>20</th>\n",
       "      <td>21</td>\n",
       "      <td>9</td>\n",
       "    </tr>\n",
       "    <tr>\n",
       "      <th>21</th>\n",
       "      <td>22</td>\n",
       "      <td>1</td>\n",
       "    </tr>\n",
       "    <tr>\n",
       "      <th>22</th>\n",
       "      <td>23</td>\n",
       "      <td>1</td>\n",
       "    </tr>\n",
       "    <tr>\n",
       "      <th>23</th>\n",
       "      <td>24</td>\n",
       "      <td>5</td>\n",
       "    </tr>\n",
       "    <tr>\n",
       "      <th>24</th>\n",
       "      <td>25</td>\n",
       "      <td>7</td>\n",
       "    </tr>\n",
       "    <tr>\n",
       "      <th>25</th>\n",
       "      <td>26</td>\n",
       "      <td>4</td>\n",
       "    </tr>\n",
       "    <tr>\n",
       "      <th>26</th>\n",
       "      <td>27</td>\n",
       "      <td>2</td>\n",
       "    </tr>\n",
       "    <tr>\n",
       "      <th>27</th>\n",
       "      <td>28</td>\n",
       "      <td>7</td>\n",
       "    </tr>\n",
       "    <tr>\n",
       "      <th>28</th>\n",
       "      <td>29</td>\n",
       "      <td>4</td>\n",
       "    </tr>\n",
       "    <tr>\n",
       "      <th>29</th>\n",
       "      <td>30</td>\n",
       "      <td>7</td>\n",
       "    </tr>\n",
       "    <tr>\n",
       "      <th>...</th>\n",
       "      <td>...</td>\n",
       "      <td>...</td>\n",
       "    </tr>\n",
       "    <tr>\n",
       "      <th>27970</th>\n",
       "      <td>27971</td>\n",
       "      <td>5</td>\n",
       "    </tr>\n",
       "    <tr>\n",
       "      <th>27971</th>\n",
       "      <td>27972</td>\n",
       "      <td>0</td>\n",
       "    </tr>\n",
       "    <tr>\n",
       "      <th>27972</th>\n",
       "      <td>27973</td>\n",
       "      <td>4</td>\n",
       "    </tr>\n",
       "    <tr>\n",
       "      <th>27973</th>\n",
       "      <td>27974</td>\n",
       "      <td>8</td>\n",
       "    </tr>\n",
       "    <tr>\n",
       "      <th>27974</th>\n",
       "      <td>27975</td>\n",
       "      <td>0</td>\n",
       "    </tr>\n",
       "    <tr>\n",
       "      <th>27975</th>\n",
       "      <td>27976</td>\n",
       "      <td>3</td>\n",
       "    </tr>\n",
       "    <tr>\n",
       "      <th>27976</th>\n",
       "      <td>27977</td>\n",
       "      <td>6</td>\n",
       "    </tr>\n",
       "    <tr>\n",
       "      <th>27977</th>\n",
       "      <td>27978</td>\n",
       "      <td>0</td>\n",
       "    </tr>\n",
       "    <tr>\n",
       "      <th>27978</th>\n",
       "      <td>27979</td>\n",
       "      <td>1</td>\n",
       "    </tr>\n",
       "    <tr>\n",
       "      <th>27979</th>\n",
       "      <td>27980</td>\n",
       "      <td>9</td>\n",
       "    </tr>\n",
       "    <tr>\n",
       "      <th>27980</th>\n",
       "      <td>27981</td>\n",
       "      <td>3</td>\n",
       "    </tr>\n",
       "    <tr>\n",
       "      <th>27981</th>\n",
       "      <td>27982</td>\n",
       "      <td>1</td>\n",
       "    </tr>\n",
       "    <tr>\n",
       "      <th>27982</th>\n",
       "      <td>27983</td>\n",
       "      <td>1</td>\n",
       "    </tr>\n",
       "    <tr>\n",
       "      <th>27983</th>\n",
       "      <td>27984</td>\n",
       "      <td>0</td>\n",
       "    </tr>\n",
       "    <tr>\n",
       "      <th>27984</th>\n",
       "      <td>27985</td>\n",
       "      <td>4</td>\n",
       "    </tr>\n",
       "    <tr>\n",
       "      <th>27985</th>\n",
       "      <td>27986</td>\n",
       "      <td>5</td>\n",
       "    </tr>\n",
       "    <tr>\n",
       "      <th>27986</th>\n",
       "      <td>27987</td>\n",
       "      <td>2</td>\n",
       "    </tr>\n",
       "    <tr>\n",
       "      <th>27987</th>\n",
       "      <td>27988</td>\n",
       "      <td>2</td>\n",
       "    </tr>\n",
       "    <tr>\n",
       "      <th>27988</th>\n",
       "      <td>27989</td>\n",
       "      <td>9</td>\n",
       "    </tr>\n",
       "    <tr>\n",
       "      <th>27989</th>\n",
       "      <td>27990</td>\n",
       "      <td>6</td>\n",
       "    </tr>\n",
       "    <tr>\n",
       "      <th>27990</th>\n",
       "      <td>27991</td>\n",
       "      <td>7</td>\n",
       "    </tr>\n",
       "    <tr>\n",
       "      <th>27991</th>\n",
       "      <td>27992</td>\n",
       "      <td>6</td>\n",
       "    </tr>\n",
       "    <tr>\n",
       "      <th>27992</th>\n",
       "      <td>27993</td>\n",
       "      <td>1</td>\n",
       "    </tr>\n",
       "    <tr>\n",
       "      <th>27993</th>\n",
       "      <td>27994</td>\n",
       "      <td>9</td>\n",
       "    </tr>\n",
       "    <tr>\n",
       "      <th>27994</th>\n",
       "      <td>27995</td>\n",
       "      <td>7</td>\n",
       "    </tr>\n",
       "    <tr>\n",
       "      <th>27995</th>\n",
       "      <td>27996</td>\n",
       "      <td>9</td>\n",
       "    </tr>\n",
       "    <tr>\n",
       "      <th>27996</th>\n",
       "      <td>27997</td>\n",
       "      <td>7</td>\n",
       "    </tr>\n",
       "    <tr>\n",
       "      <th>27997</th>\n",
       "      <td>27998</td>\n",
       "      <td>3</td>\n",
       "    </tr>\n",
       "    <tr>\n",
       "      <th>27998</th>\n",
       "      <td>27999</td>\n",
       "      <td>9</td>\n",
       "    </tr>\n",
       "    <tr>\n",
       "      <th>27999</th>\n",
       "      <td>28000</td>\n",
       "      <td>2</td>\n",
       "    </tr>\n",
       "  </tbody>\n",
       "</table>\n",
       "<p>28000 rows × 2 columns</p>\n",
       "</div>"
      ],
      "text/plain": [
       "       ImageId  Label\n",
       "0            1      2\n",
       "1            2      0\n",
       "2            3      9\n",
       "3            4      0\n",
       "4            5      3\n",
       "5            6      7\n",
       "6            7      0\n",
       "7            8      3\n",
       "8            9      0\n",
       "9           10      3\n",
       "10          11      5\n",
       "11          12      7\n",
       "12          13      4\n",
       "13          14      0\n",
       "14          15      4\n",
       "15          16      3\n",
       "16          17      3\n",
       "17          18      1\n",
       "18          19      9\n",
       "19          20      0\n",
       "20          21      9\n",
       "21          22      1\n",
       "22          23      1\n",
       "23          24      5\n",
       "24          25      7\n",
       "25          26      4\n",
       "26          27      2\n",
       "27          28      7\n",
       "28          29      4\n",
       "29          30      7\n",
       "...        ...    ...\n",
       "27970    27971      5\n",
       "27971    27972      0\n",
       "27972    27973      4\n",
       "27973    27974      8\n",
       "27974    27975      0\n",
       "27975    27976      3\n",
       "27976    27977      6\n",
       "27977    27978      0\n",
       "27978    27979      1\n",
       "27979    27980      9\n",
       "27980    27981      3\n",
       "27981    27982      1\n",
       "27982    27983      1\n",
       "27983    27984      0\n",
       "27984    27985      4\n",
       "27985    27986      5\n",
       "27986    27987      2\n",
       "27987    27988      2\n",
       "27988    27989      9\n",
       "27989    27990      6\n",
       "27990    27991      7\n",
       "27991    27992      6\n",
       "27992    27993      1\n",
       "27993    27994      9\n",
       "27994    27995      7\n",
       "27995    27996      9\n",
       "27996    27997      7\n",
       "27997    27998      3\n",
       "27998    27999      9\n",
       "27999    28000      2\n",
       "\n",
       "[28000 rows x 2 columns]"
      ]
     },
     "execution_count": 37,
     "metadata": {},
     "output_type": "execute_result"
    }
   ],
   "source": [
    "my_submission"
   ]
  },
  {
   "cell_type": "code",
   "execution_count": 38,
   "metadata": {
    "_cell_guid": "757f457d-1020-4dba-bed2-cad70cafc1d2",
    "_kg_hide-input": false,
    "_uuid": "c0457bb3eadf374057134d3a377aedaf3a064a1f",
    "collapsed": true,
    "scrolled": true
   },
   "outputs": [],
   "source": [
    "my_submission.to_csv('submission1.csv', index=False)"
   ]
  },
  {
   "cell_type": "code",
   "execution_count": 35,
   "metadata": {
    "_cell_guid": "535e2700-0ca7-45c7-b312-3ce47dc1718a",
    "_uuid": "d3e7a4df406aa388677917414518ae0e1d6ce408"
   },
   "outputs": [
    {
     "name": "stdout",
     "output_type": "stream",
     "text": [
      " Volume in drive C is OS\n",
      " Volume Serial Number is FAC8-C222\n",
      "\n",
      " Directory of C:\\Users\\SHREYAS\\Downloads\n",
      "\n",
      "12/18/2017  12:11 PM    <DIR>          .\n",
      "12/18/2017  12:11 PM    <DIR>          ..\n",
      "02/16/2017  03:13 AM    <DIR>          .disk\n",
      "08/29/2017  03:55 PM               126 .gitignore\n",
      "10/17/2017  03:35 PM    <DIR>          .idea\n",
      "12/17/2017  09:32 PM    <DIR>          .ipynb_checkpoints\n",
      "05/04/2017  04:56 PM           108,204 [fmovies.se] Pirates Of The Caribbean- The Curse Of The Black Pearl - Full.srt\n",
      "05/29/2017  12:05 PM    <DIR>          _temp_matlab_R2017a_win64\n",
      "11/10/2017  10:45 PM    <DIR>          01600-PHP-and-MySQL\n",
      "11/10/2017  10:05 PM        26,573,548 01600-PHP-and-MySQL.zip\n",
      "11/13/2017  12:23 AM            12,183 2010_Census_Populations_by_Zip_Code.csv\n",
      "05/05/2017  07:21 PM         1,381,582 7z1604-x64.exe\n",
      "11/02/2017  02:27 PM    <DIR>          92-10 (1).ps\n",
      "11/02/2017  02:25 PM            68,254 92-10 (1).ps.gz\n",
      "11/06/2017  11:05 AM            68,254 92-10 (2).ps.gz\n",
      "11/02/2017  02:23 PM    <DIR>          92-10.ps\n",
      "11/02/2017  02:21 PM            68,254 92-10.ps.gz\n",
      "07/17/2016  12:12 PM         8,544,032 AbsoluteSetup.exe\n",
      "07/26/2017  11:29 AM           965,944 algorithms+and+datastructures.pdf\n",
      "11/13/2017  12:32 AM    <DIR>          amzn-anon-access-samples\n",
      "11/13/2017  12:28 AM        12,268,509 amzn-anon-access-samples.tgz\n",
      "05/30/2017  11:32 PM       442,630,816 Anaconda3-4.3.1-Windows-x86_64.exe\n",
      "10/27/2017  12:45 AM       539,829,832 Anaconda3-5.0.1-Windows-x86_64.exe\n",
      "10/16/2017  01:48 PM     2,020,009,280 android-studio-bundle-162.4069837-windows.exe\n",
      "08/29/2017  03:55 PM    <DIR>          app\n",
      "07/25/2016  11:48 AM        14,313,040 Application_56J82_WN32_1.4.2000.0_A07.EXE\n",
      "08/11/2017  10:12 PM        93,957,368 arduino-1.8.3-windows.exe\n",
      "03/29/2017  04:24 PM    <DIR>          assets\n",
      "11/18/2017  10:11 AM       138,975,776 AtomSetup-x64.exe\n",
      "07/19/2016  02:53 PM           909,090 AutoC_Setup.exe\n",
      "12/15/2017  12:51 AM           247,393 Autonomous+driving+application+-+Car+detection+-+v1.ipynb\n",
      "08/20/2017  11:59 PM       153,809,624 bokuhero20_HD.mp4\n",
      "02/16/2017  03:13 AM    <DIR>          boot\n",
      "12/11/2017  12:29 PM    <DIR>          bootraps\n",
      "12/11/2017  12:28 PM        73,749,951 bootraps.rar\n",
      "10/17/2017  03:29 PM    <DIR>          build\n",
      "08/29/2017  03:55 PM               498 build.gradle\n",
      "12/08/2017  03:44 PM            56,399 Building+your+Deep+Neural+Network+-+Step+by+Step+v5.ipynb\n",
      "12/01/2017  11:54 AM             1,897 canvas.png\n",
      "02/16/2017  03:13 AM    <DIR>          casper\n",
      "07/17/2016  10:05 PM           987,728 ChromeSetup.exe\n",
      "09/09/2017  05:20 PM           462,800 client_auth_agent.exe\n",
      "12/08/2017  09:02 PM    <DIR>          cmake-3.10.0\n",
      "12/08/2017  08:59 PM        13,019,284 cmake-3.10.0.zip\n",
      "12/08/2017  09:03 PM        16,023,179 cmake-3.10.0-win32-x86.msi\n",
      "12/18/2017  12:09 PM            14,858 cnn digit keras.ipynb\n",
      "10/30/2017  11:20 AM            66,257 CNN.ipynb\n",
      "08/21/2016  05:13 PM        20,250,097 codeblocks_16.01.tar.gz\n",
      "09/25/2016  03:43 PM        83,783,938 codeblocks-16.01mingw-setup (1).exe\n",
      "09/28/2016  05:53 PM        83,783,938 codeblocks-16.01mingw-setup (2).exe\n",
      "08/21/2016  05:29 PM        83,783,938 codeblocks-16.01mingw-setup.exe\n",
      "11/20/2017  07:47 PM           206,518 compiler_n_debugger.pdf\n",
      "12/10/2017  11:05 PM            87,265 Convolution+model+-+Application+-+v1.ipynb\n",
      "12/10/2017  11:06 PM            58,771 Convolution+model+-+Step+by+Step+-+v2.ipynb\n",
      "10/27/2017  01:59 AM     1,432,243,312 cuda_9.0.176_win10.exe\n",
      "03/22/2017  01:56 PM         4,173,928 d3dcompiler_47.dll\n",
      "03/22/2017  01:56 PM         3,466,856 d3dcompiler_47.x86.dll\n",
      "11/02/2017  07:47 PM            99,428 dataset.csv\n",
      "11/13/2017  12:31 AM    <DIR>          dataset_diabetes\n",
      "11/13/2017  12:30 AM         3,347,213 dataset_diabetes.zip\n",
      "08/29/2017  10:37 PM        18,094,270 DDCO.pdf\n",
      "12/08/2017  03:45 PM           310,992 Deep+Neural+Network+-+Application+v3.ipynb\n",
      "11/19/2016  12:52 PM         2,549,112 DefaultPack.EXE\n",
      "07/25/2016  11:51 AM           420,192 DellSystemDetectLauncher.exe\n",
      "12/01/2017  11:27 AM         1,001,407 DiabMaineroWatson-MusicalGenreTagClassificationWithCuratedAndCrowdsourcedDatasets.pdf\n",
      "02/16/2017  03:12 AM    <DIR>          dists\n",
      "12/07/2017  11:19 AM       132,657,672 Docker for Windows Installer(1).exe\n",
      "12/07/2017  08:12 PM       132,657,672 Docker for Windows Installer(2).exe\n",
      "12/07/2017  11:12 AM       239,931,400 Docker for Windows Installer.exe\n",
      "11/05/2017  03:06 PM         1,448,809 DOSBox0.74-win32-installer.exe\n",
      "10/17/2017  03:29 PM               771 Downloads.iml\n",
      "05/05/2017  08:23 PM    <DIR>          Dragonball_Z_Shin_Budokai_Another_Road_USA_PSP-pSyPSP\n",
      "05/05/2017  06:55 PM       296,832,688 Dragonball_Z_Shin_Budokai_Another_Road_USA_PSP-pSyPSP.rar\n",
      "11/21/2017  04:28 PM         2,781,122 drive-download-20171121T105804Z-001.zip\n",
      "07/12/2017  06:17 PM            71,680 DUE for 2016-17 mail (1).XLS\n",
      "07/12/2017  06:17 PM            71,680 DUE for 2016-17 mail (2).XLS\n",
      "07/12/2017  06:16 PM            71,680 DUE for 2016-17 mail.XLS\n",
      "01/27/2017  01:54 PM         1,794,843 E balagurusamy programming in ANSI c Solution.rar\n",
      "08/26/2017  11:07 AM           165,432 ECE_187_midsem_Manoj_2015_1_1.jpg\n",
      "11/11/2017  06:57 PM        48,691,144 eclipse-inst-win64 (1).exe\n",
      "04/27/2017  06:46 PM        47,791,424 eclipse-inst-win64.exe\n",
      "02/16/2017  03:13 AM    <DIR>          EFI\n",
      "08/15/2017  09:54 AM         1,000,012 fd81f67c-a-input-fd81ee8.txt.clean.txt\n",
      "11/24/2017  06:57 PM           311,176 Firefox Installer.exe\n",
      "03/13/2017  12:28 PM    <DIR>          flash0\n",
      "07/24/2017  01:10 PM       563,177,624 Game.of.Thrones.S07E02.[@Intermedia™].AMZN.WEB-DL.GoT.mkv\n",
      "07/31/2017  10:11 AM       847,619,038 Game.of.Thrones.S07E03.[@Intermedia™].WEB.TBS.mkv\n",
      "08/07/2017  11:39 AM       473,804,838 Game.of.Thrones.S07E04.[@Intermedia™].WEBRip.RARBG.mp4\n",
      "08/14/2017  09:04 AM       307,157,503 Game.of.Thrones.S07E05.[@Intermedia™].HDTV.SVA.mkv\n",
      "08/16/2017  09:05 PM     1,529,645,906 Game.of.Thrones.S07E06.[@Intermedia™]720p.LEAKTV.DAMNSPEAR.mp4\n",
      "08/28/2017  07:49 AM       461,794,720 Game.of.Thrones.S07E07.[@Intermedia™].WEB.STRiFE.mkv\n",
      "08/13/2017  11:24 PM         4,858,390 game-of-thrones-main-theme-official-soundtrack-version.mp3\n",
      "07/26/2017  03:56 PM           126,136 Gangs Of Wasseypur (2012) - DvDRip XviD ESub .DDR.srt\n",
      "07/26/2017  09:26 PM            48,184 gangs.of.wasseypur.(2012).eng.1cd.(4640822).zip\n",
      "07/26/2017  03:56 PM             6,437 gangs.of.wasseypur.(4640822).nfo\n",
      "12/08/2017  08:29 PM                 0 genres.tar.gz\n",
      "12/08/2017  10:40 PM       620,580,864 genres.tar.gz.part\n",
      "11/01/2017  10:29 PM        38,518,544 Git-2.15.0-64-bit.exe\n",
      "11/12/2017  11:16 AM        84,123,096 GitHubDesktopSetup.exe\n",
      "09/15/2017  10:19 PM    <DIR>          God_of_War_-_Ghost_of_Sparta_EUR_MULTi5_PROPER_PSP-iND\n",
      "01/01/1970  05:29 AM     1,154,215,877 God_of_War_-_Ghost_of_Sparta_EUR_MULTi5_PROPER_PSP-iND.rar\n",
      "11/10/2017  11:09 PM           368,648 GoogleCloudSDKInstaller.exe\n",
      "12/10/2017  03:16 PM            27,244 Gradient+Checking+v1.ipynb\n",
      "08/29/2017  03:55 PM    <DIR>          gradle\n",
      "08/29/2017  03:55 PM               855 gradle.properties\n",
      "08/29/2017  03:55 PM             5,080 gradlew\n",
      "08/29/2017  03:55 PM             2,404 gradlew.bat\n",
      "05/03/2017  08:43 PM           110,663 GUARDIANS OF THE GALAXY VOL. 2 (2017)  _NEW_HDCAM_x264_HQMic-CPG .srt\n",
      "06/05/2017  09:38 PM            43,404 GUARDIANS OF THE GALAXY VOL. 2 (2017)  _NEW_HDCAM_x264_HQMic-CPG English.zip\n",
      "12/01/2017  11:19 AM            85,604 IE_project_doc\n",
      "01/01/1970  05:29 AM        20,000,000 ind-gowgsp.rar\n",
      "12/10/2017  03:16 PM           274,695 Initialization.ipynb\n",
      "02/16/2017  03:13 AM    <DIR>          install\n",
      "02/16/2017  03:13 AM    <DIR>          isolinux\n",
      "08/26/2017  11:20 AM           138,047 IT_111_endsem_Manoj_2015_1_0.jpg\n",
      "08/26/2017  11:26 AM           134,091 IT_111_endsem_Manoj_2015_1_1.jpg\n",
      "08/26/2017  11:07 AM           132,044 IT_113_midsem_Manoj_2015_1_0 (1).jpg\n",
      "08/26/2017  11:16 AM           132,044 IT_113_midsem_Manoj_2015_1_0 (2).jpg\n",
      "08/26/2017  11:06 AM           132,044 IT_113_midsem_Manoj_2015_1_0.jpg\n",
      "08/26/2017  11:15 AM           164,400 IT_113_midsem_Manoj_2015_1_1 (1).jpg\n",
      "08/26/2017  11:07 AM           164,400 IT_113_midsem_Manoj_2015_1_1.jpg\n",
      "08/26/2017  11:04 AM           249,195 IT_141_endsem_Sravya_2016_1_1.jpg\n",
      "08/26/2017  11:17 AM           229,608 IT_759_endsem_Manoj_2015_1_1.jpg\n",
      "11/24/2017  07:12 PM            67,216 IT202 UNIX PROJECT REPORT FORMAT\n",
      "11/24/2017  07:02 PM            67,216 IT202 UNIX PROJECT REPORT FORMAT (1).pdf\n",
      "11/24/2017  07:02 PM            67,216 IT202 UNIX PROJECT REPORT FORMAT.pdf\n",
      "07/25/2017  02:40 PM           351,056 IT-Department-Time-Table-July2017-December2017 (1).pdf\n",
      "07/25/2017  02:40 PM           351,056 IT-Department-Time-Table-July2017-December2017.pdf\n",
      "10/16/2017  09:26 AM           114,176 JavaCollections-abbrev.ppt\n",
      "04/27/2017  05:50 PM       207,649,848 jdk-8u131-windows-x64.exe\n",
      "12/13/2017  08:56 PM            60,955 Keras+-+Tutorial+-+Happy+House+v2.ipynb\n",
      "10/16/2017  03:14 PM    <DIR>          kernel-3.10\n",
      "08/09/2017  11:23 AM            21,437 lab (1).docx\n",
      "08/09/2017  11:23 AM            21,437 lab.docx\n",
      "11/05/2017  03:35 PM    <DIR>          lab-master\n",
      "11/05/2017  03:35 PM         4,086,009 lab-master.zip\n",
      "08/29/2017  03:55 PM            10,191 LICENSE\n",
      "10/17/2017  03:28 PM               491 local.properties\n",
      "03/09/2017  10:03 AM            88,489 Logan.2017.HDCAM.850MB.MkvCage.en.srt\n",
      "12/06/2017  01:28 PM           242,893 Logistic Regression.pdf\n",
      "12/08/2017  03:43 PM           293,610 Logistic+Regression+with+a+Neural+Network+mindset+v4.ipynb\n",
      "12/08/2017  09:25 PM    <DIR>          marsyas-win32-0.5.0\n",
      "12/07/2017  10:55 AM        24,106,938 marsyas-win32-0.5.0.zip\n",
      "05/29/2017  12:08 PM    <DIR>          MathWorks\n",
      "05/29/2017  12:05 PM        92,691,288 matlab_R2017a_win64.exe\n",
      "02/16/2017  03:14 AM            21,452 md5sum.txt\n",
      "09/16/2017  08:22 PM    <DIR>          memstick\n",
      "12/01/2017  11:57 AM           260,682 merge_from_ofoct.jpg\n",
      "05/30/2017  11:17 PM             6,102 MLSMP.docx\n",
      "12/07/2017  10:51 AM               214 moved-to-github.txt\n",
      "12/06/2017  11:54 AM           164,159 Multi-Class Classification Assignment(1).pdf\n",
      "12/06/2017  11:32 AM            93,062 Multi-Class Classification Assignment.pdf\n",
      "05/05/2017  09:47 PM    <DIR>          Naruto_Shippuden_Ultimate_Ninja_Impact_USA_PSP-PLAYASiA\n",
      "05/05/2017  09:45 PM       948,754,379 Naruto_Shippuden_Ultimate_Ninja_Impact_USA_PSP-PLAYASiA.rar\n",
      "09/29/2016  09:33 PM        52,875,707 Naruto-Shippuden-Episode-476.mp4\n",
      "09/29/2016  09:47 PM        56,706,764 Naruto-Shippuden-Episode-477.mp4\n",
      "09/29/2016  09:15 PM           857,160 Naruto-Shippuden-Episode-477.mp4.crdownload\n",
      "08/12/2017  05:41 PM         6,725,874 New Doc 2017-08-09 (1).pdf\n",
      "08/17/2017  06:29 PM         6,725,874 New Doc 2017-08-09 (2).pdf\n",
      "08/12/2017  05:41 PM         6,725,874 New Doc 2017-08-09.pdf\n",
      "10/24/2017  06:04 PM        12,771,328 node-v6.11.4-x64.msi\n",
      "12/17/2017  09:30 PM            11,675 notebook.ipynb\n",
      "08/24/2016  05:41 PM           159,997 Now.You.See.Me.2.2016.1080p.BluRay.H264.AAC-RARBG.srt\n",
      "08/25/2013  11:25 AM           150,320 Now.You.See.Me.2013.720p.BluRay.x264.YIFY.english.srt\n",
      "04/27/2017  06:19 PM         2,982,992 npp.7.3.3.Installer.exe\n",
      "05/29/2017  12:15 PM       192,857,959 octave-4.2.1-w64-installer.exe\n",
      "12/10/2017  03:16 PM           384,743 Optimization+methods.ipynb\n",
      "02/16/2017  03:12 AM    <DIR>          pics\n",
      "12/02/2013  03:24 PM            97,455 pirates-of-the-caribbean-on-stranger-tides-yify-english.srt\n",
      "12/08/2017  03:44 PM         1,051,894 Planar+data+classification+with+one+hidden+layer+v4.ipynb\n",
      "11/13/2017  12:13 AM            44,028 Pokemon.csv\n",
      "02/16/2017  03:12 AM    <DIR>          pool\n",
      "09/18/2017  07:39 PM           186,771 POP PROJECT.pdf\n",
      "05/05/2017  05:55 PM        20,229,535 ppsspp_win.zip\n",
      "05/05/2017  05:48 PM        14,658,130 PPSSPPSetup.exe\n",
      "03/31/2017  11:50 AM        11,352,064 PPSSPPWindows.exe\n",
      "03/31/2017  11:53 AM        14,163,456 PPSSPPWindows64.exe\n",
      "02/16/2017  03:12 AM    <DIR>          preseed\n",
      "08/01/2017  11:19 PM         1,253,657 Programming in ANSI C 6th Edition by E. Balaguruswamy pdf free download.pdf\n",
      "12/08/2017  07:49 PM           198,418 Project Proposal(1)(1).pdf\n",
      "12/08/2017  06:52 PM           198,418 Project Proposal(1).pdf\n",
      "12/08/2017  06:57 PM           198,163 Project Proposal(2).pdf\n",
      "12/08/2017  06:50 PM           198,260 Project Proposal.pdf\n",
      "01/20/2017  07:50 PM           531,368 putty (1).exe\n",
      "09/18/2017  11:19 PM       162,070,008 pycharm-community-173.2290.21.exe\n",
      "05/29/2017  05:35 PM       214,053,216 pycharm-professional-172.2103.19.exe\n",
      "10/17/2017  07:21 PM            41,883 Python+Basics+With+Numpy+v3.ipynb\n",
      "05/29/2017  10:23 AM        30,453,192 python-3.6.1 (1).exe\n",
      "05/29/2017  10:22 AM        30,453,192 python-3.6.1.exe\n",
      "08/29/2017  03:55 PM               233 README\n",
      "02/16/2017  03:12 AM               232 README.diskdefines\n",
      "01/28/2017  09:13 AM               338 Readme.html\n",
      "03/31/2017  11:47 AM             9,080 README.md\n",
      "05/05/2017  01:55 AM               109 Readme.txt\n",
      "10/19/2017  07:20 PM        75,840,830 Red Black Trees-lec14.3gp\n",
      "12/13/2017  08:32 PM            40,485 Residual+Networks+-+v2.ipynb\n",
      "08/21/2017  10:43 AM       182,161,524 Rick.and.Morty.S03E05.[@Intermedia™].HDTV.BATV.mkv\n",
      "09/06/2017  09:54 PM       141,641,286 Rick.and.Morty.S03E06.[@Intermedia™].HDTV.BATV.mkv\n",
      "09/11/2017  06:25 PM       138,967,125 Rick.and.Morty.S03E07.[@Intermedia™].HDTV.BATV.mkv\n",
      "10/30/2017  10:20 AM           240,909 sample_submission.csv\n",
      "05/29/2017  04:37 PM           151,068 Scion Of Ikshvaku Pdf Download Free.pdf\n",
      "08/29/2017  03:55 PM                15 settings.gradle\n",
      "07/21/2016  01:58 PM         3,518,656 Setup.X86.en-US_HomeStudentRetail_002e0cf3-544e-4cba-beeb-ed6e7a50f47b_TX_SG_.exe\n",
      "10/24/2017  06:25 PM               557 single-file-example.html\n",
      "07/17/2016  07:53 PM         1,211,048 SkypeSetup (1).exe.03axabq.partial\n",
      "10/25/2017  11:22 AM         8,952,928 Sublime Text Build 3143 x64 Setup.exe\n",
      "12/18/2017  12:11 PM           240,914 submission.csv\n",
      "08/26/2017  11:50 AM        12,269,819 sumitabahdas[1].pdf\n",
      "12/10/2017  05:18 PM           211,156 Tensorflow+Tutorial.ipynb\n",
      "11/02/2017  07:43 PM            28,629 test (1).csv\n",
      "12/05/2017  06:33 PM        51,118,296 test(1).csv\n",
      "12/17/2017  09:25 PM        51,118,296 test(2).csv\n",
      "10/30/2017  10:21 AM        51,118,296 test.csv\n",
      "11/02/2017  07:33 PM            61,194 train (1).csv\n",
      "12/05/2017  06:33 PM        76,775,041 train(1).csv\n",
      "12/17/2017  09:25 PM        76,775,041 train(2).csv\n",
      "10/30/2017  10:21 AM        76,775,041 train.csv\n",
      "05/31/2017  05:11 PM                86 trial.html\n",
      "10/24/2017  08:50 AM               959 tries (1).py\n",
      "10/20/2017  05:31 PM        72,902,395 Tries-lec18.3gp\n",
      "08/13/2017  11:22 PM         4,029,893 tumblr_lmux2wMBf61qa0efjo1.mp3\n",
      "06/10/2017  11:13 PM    <DIR>          ubuntu-16.04.2-desktop-amd64\n",
      "06/10/2017  11:08 PM     1,554,186,240 ubuntu-16.04.2-desktop-amd64.iso\n",
      "09/15/2017  04:16 PM        46,233,948 Unconfirmed 278134.crdownload\n",
      "09/27/2016  02:20 PM        78,238,126 Unconfirmed 289123.crdownload\n",
      "09/15/2017  04:50 PM       121,118,461 Unconfirmed 371657.crdownload\n",
      "08/21/2016  03:57 PM       572,319,516 Unconfirmed 530678.crdownload\n",
      "11/20/2017  07:47 PM           510,196 UNIX_Processes.pdf\n",
      "10/26/2017  10:19 PM             5,084 Unix-Programming-Project-master.zip\n",
      "11/23/2017  06:18 PM            48,760 unnamed.png\n",
      "11/04/2017  10:24 AM    <DIR>          VeRap\n",
      "11/04/2017  10:24 AM            64,581 VeRap.tar.gz\n",
      "06/10/2017  10:44 PM       123,669,848 VirtualBox-5.1.22-115126-Win.exe\n",
      "12/08/2017  09:06 PM         1,117,672 vs_community__1910689108.1512746807.exe\n",
      "10/26/2017  07:07 PM        42,842,976 VSCodeSetup-x64-1.17.2.exe\n",
      "11/12/2017  07:10 PM         1,221,496 WBTreeIntro (1).pptx\n",
      "11/10/2017  06:54 PM         1,145,885 WBTreeIntro.pptx\n",
      "05/05/2017  07:37 PM        23,422,280 winzip155 (1).exe\n",
      "05/05/2017  05:57 PM        23,422,280 winzip155.exe\n",
      "05/05/2017  07:17 PM           712,888 winzip21_downwz.exe\n",
      "05/03/2017  03:54 PM         2,006,576 wrar540.exe\n",
      "11/10/2017  10:57 PM       126,713,424 xampp-win32-7.1.11-0-VC14-installer.exe\n",
      "             205 File(s) 18,177,258,630 bytes\n",
      "              37 Dir(s)  67,617,374,208 bytes free\n"
     ]
    }
   ],
   "source": [
    "ls"
   ]
  },
  {
   "cell_type": "code",
   "execution_count": null,
   "metadata": {
    "_cell_guid": "8ada6ae2-3f71-4965-88ad-bebe1a3e56a4",
    "_uuid": "d621513d89e0c843d1084a29f39a298f6137d531",
    "collapsed": true,
    "scrolled": true
   },
   "outputs": [],
   "source": []
  },
  {
   "cell_type": "code",
   "execution_count": null,
   "metadata": {
    "_cell_guid": "469b6537-522a-4154-9c36-f6e1d9934298",
    "_uuid": "4158308612f5b231d9c44e7c50cfb79ed4eec10a",
    "collapsed": true,
    "scrolled": true
   },
   "outputs": [],
   "source": []
  },
  {
   "cell_type": "code",
   "execution_count": null,
   "metadata": {
    "_cell_guid": "6b08bf5a-dc13-4e82-a03e-92d24c44ec65",
    "_uuid": "d0e1e3a92b58b3b8c6fcac167f974ed93ca79b9b",
    "collapsed": true,
    "scrolled": true
   },
   "outputs": [],
   "source": []
  },
  {
   "cell_type": "code",
   "execution_count": null,
   "metadata": {
    "_cell_guid": "ea96dd32-ff94-4ea8-b50e-15a8d5884864",
    "_uuid": "fb3e2dbdb39c1e0b455968e7c62bf4e0ea752adb",
    "collapsed": true
   },
   "outputs": [],
   "source": []
  },
  {
   "cell_type": "code",
   "execution_count": null,
   "metadata": {
    "_cell_guid": "d4113fb6-69ea-4ad1-8ace-f82bdba830c5",
    "_uuid": "c8492921cef281c254921f109ac4db5b420d1cb9",
    "collapsed": true
   },
   "outputs": [],
   "source": []
  },
  {
   "cell_type": "code",
   "execution_count": null,
   "metadata": {
    "_cell_guid": "f8bb8a8d-2ba3-454f-9a5a-8de5afef138e",
    "_uuid": "8835619e3968f397c0c39bf2f41e49f52eb66d97",
    "collapsed": true,
    "scrolled": true
   },
   "outputs": [],
   "source": []
  },
  {
   "cell_type": "code",
   "execution_count": null,
   "metadata": {
    "_cell_guid": "4bfb88e3-e64c-4420-8da0-7c451ecde303",
    "_uuid": "448da827e6df1f9f0dd0d51f6ce4b3e7141cb70b",
    "collapsed": true
   },
   "outputs": [],
   "source": []
  }
 ],
 "metadata": {
  "kernelspec": {
   "display_name": "Python 3",
   "language": "python",
   "name": "python3"
  },
  "language_info": {
   "codemirror_mode": {
    "name": "ipython",
    "version": 3
   },
   "file_extension": ".py",
   "mimetype": "text/x-python",
   "name": "python",
   "nbconvert_exporter": "python",
   "pygments_lexer": "ipython3",
   "version": "3.5.4"
  }
 },
 "nbformat": 4,
 "nbformat_minor": 1
}
